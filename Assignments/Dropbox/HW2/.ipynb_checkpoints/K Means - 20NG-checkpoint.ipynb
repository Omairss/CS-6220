{
 "cells": [
  {
   "cell_type": "code",
   "execution_count": 4,
   "metadata": {
    "collapsed": true
   },
   "outputs": [],
   "source": [
    "import mnist\n",
    "import scipy.misc\n",
    "import numpy as np\n",
    "from copy import deepcopy\n",
    "import numpy as np\n",
    "import pandas as pd\n",
    "from sklearn.metrics.pairwise import euclidean_distances\n",
    "from matplotlib import pyplot as plt\n",
    "from sklearn.datasets import fetch_20newsgroups\n",
    "from sklearn.feature_extraction.text import CountVectorizer\n",
    "\n",
    "plt.rcParams['figure.figsize'] = (16, 9)\n",
    "plt.style.use('ggplot')\n",
    "%matplotlib inline"
   ]
  },
  {
   "cell_type": "code",
   "execution_count": 54,
   "metadata": {
    "scrolled": true
   },
   "outputs": [],
   "source": [
    "news_train = fetch_20newsgroups(data_home='../data/20newsgroups/', \n",
    "                                subset='train', \n",
    "                                remove=('headers', 'footers', 'quotes'))\n",
    "news_test = fetch_20newsgroups(data_home='../data/20newsgroups/', \n",
    "                                subset='test', \n",
    "                                remove=('headers', 'footers', 'quotes'))"
   ]
  },
  {
   "cell_type": "code",
   "execution_count": 159,
   "metadata": {},
   "outputs": [],
   "source": [
    "vectorizer                = CountVectorizer(binary=True, stop_words='english', min_df = 150)\n",
    "counts_train              = vectorizer.fit_transform(news_train.data)\n",
    "counts_test               = vectorizer.transform(news_test.data)"
   ]
  },
  {
   "cell_type": "code",
   "execution_count": 160,
   "metadata": {},
   "outputs": [
    {
     "data": {
      "text/plain": [
       "(11314, 814)"
      ]
     },
     "execution_count": 160,
     "metadata": {},
     "output_type": "execute_result"
    }
   ],
   "source": [
    "counts_train.shape"
   ]
  },
  {
   "cell_type": "code",
   "execution_count": 161,
   "metadata": {},
   "outputs": [
    {
     "data": {
      "text/plain": [
       "(11314, 814)"
      ]
     },
     "execution_count": 161,
     "metadata": {},
     "output_type": "execute_result"
    }
   ],
   "source": [
    "counts_train.shape"
   ]
  },
  {
   "cell_type": "code",
   "execution_count": 162,
   "metadata": {},
   "outputs": [],
   "source": [
    "data = counts_train.transpose()"
   ]
  },
  {
   "cell_type": "code",
   "execution_count": 163,
   "metadata": {
    "collapsed": true
   },
   "outputs": [],
   "source": [
    "def dist(a, b, ax=1):\n",
    "    return np.linalg.norm(a - b, axis=ax)"
   ]
  },
  {
   "cell_type": "code",
   "execution_count": 164,
   "metadata": {},
   "outputs": [
    {
     "name": "stdout",
     "output_type": "stream",
     "text": [
      "Initial Centroids\n",
      "[[ 13  54 111 ..., 102 176  84]\n",
      " [215  61 118 ..., 123 154 152]\n",
      " [133 222   0 ...,  82 236 112]\n",
      " ..., \n",
      " [206 190  51 ..., 128 168 231]\n",
      " [167  76  82 ...,  77 202 128]\n",
      " [  1  70 253 ...,  40 228   1]]\n"
     ]
    }
   ],
   "source": [
    "k = 20\n",
    "\n",
    "centroids = np.array([np.random.randint(0, 255, size=data.shape[0]) for i in range(k)])\n",
    "\n",
    "print(\"Initial Centroids\")\n",
    "print(centroids)"
   ]
  },
  {
   "cell_type": "code",
   "execution_count": 165,
   "metadata": {},
   "outputs": [
    {
     "data": {
      "text/plain": [
       "(20, 814)"
      ]
     },
     "execution_count": 165,
     "metadata": {},
     "output_type": "execute_result"
    }
   ],
   "source": [
    "centroids.shape"
   ]
  },
  {
   "cell_type": "code",
   "execution_count": 166,
   "metadata": {
    "collapsed": true,
    "scrolled": true
   },
   "outputs": [],
   "source": [
    "old_centroids = np.zeros(centroids.shape)"
   ]
  },
  {
   "cell_type": "code",
   "execution_count": 167,
   "metadata": {
    "collapsed": true
   },
   "outputs": [],
   "source": [
    "clusters       = np.zeros(data.shape[1])\n",
    "error_function = dist(centroids, old_centroids, None)"
   ]
  },
  {
   "cell_type": "code",
   "execution_count": 168,
   "metadata": {},
   "outputs": [
    {
     "data": {
      "text/plain": [
       "18693.719105624754"
      ]
     },
     "execution_count": 168,
     "metadata": {},
     "output_type": "execute_result"
    }
   ],
   "source": [
    "error_function"
   ]
  },
  {
   "cell_type": "code",
   "execution_count": 169,
   "metadata": {
    "collapsed": true
   },
   "outputs": [],
   "source": [
    "error_function_plot = []"
   ]
  },
  {
   "cell_type": "code",
   "execution_count": 170,
   "metadata": {},
   "outputs": [
    {
     "data": {
      "text/plain": [
       "(814, 11314)"
      ]
     },
     "execution_count": 170,
     "metadata": {},
     "output_type": "execute_result"
    }
   ],
   "source": [
    "data.shape"
   ]
  },
  {
   "cell_type": "code",
   "execution_count": null,
   "metadata": {
    "collapsed": true
   },
   "outputs": [],
   "source": []
  },
  {
   "cell_type": "code",
   "execution_count": null,
   "metadata": {
    "scrolled": true
   },
   "outputs": [
    {
     "name": "stdout",
     "output_type": "stream",
     "text": [
      "18693.7191056\n",
      "4.0\n",
      "0.0\n",
      "4.472135955\n"
     ]
    }
   ],
   "source": [
    "prev_error_function = 9999\n",
    "\n",
    "\n",
    "while abs(prev_error_function - error_function) > 0.5:\n",
    "    \n",
    "    print (error_function)\n",
    "    \n",
    "    error_function_plot.append(error_function)\n",
    "\n",
    "    for i in range(len(clusters)):\n",
    "        clusters[i] = np.argmin([np.linalg.norm(data[:,i] - centroid) for centroid in centroids])  \n",
    "\n",
    "\n",
    "    centroids_old = deepcopy(centroids)\n",
    "\n",
    "    for i in range(k):\n",
    "        points       = np.array([data[:,i].toarray() if (clusters[j] == i) else np.zeros(data[:,3].shape)for j in range(data.shape[1])])\n",
    "        centroids[i] = np.array(np.mean(points, axis= 0)).flatten()\n",
    "\n",
    "    prev_error_function = error_function\n",
    "    error_function      = dist(centroids, old_centroids, None)"
   ]
  },
  {
   "cell_type": "code",
   "execution_count": 145,
   "metadata": {
    "scrolled": true
   },
   "outputs": [
    {
     "name": "stdout",
     "output_type": "stream",
     "text": [
      "[]\n",
      "[]\n",
      "[[[0]\n",
      "  [0]\n",
      "  [0]\n",
      "  ..., \n",
      "  [0]\n",
      "  [0]\n",
      "  [0]]\n",
      "\n",
      " [[0]\n",
      "  [0]\n",
      "  [0]\n",
      "  ..., \n",
      "  [0]\n",
      "  [0]\n",
      "  [0]]\n",
      "\n",
      " [[0]\n",
      "  [0]\n",
      "  [0]\n",
      "  ..., \n",
      "  [0]\n",
      "  [0]\n",
      "  [0]]\n",
      "\n",
      " ..., \n",
      " [[0]\n",
      "  [0]\n",
      "  [0]\n",
      "  ..., \n",
      "  [0]\n",
      "  [0]\n",
      "  [0]]\n",
      "\n",
      " [[0]\n",
      "  [0]\n",
      "  [0]\n",
      "  ..., \n",
      "  [0]\n",
      "  [0]\n",
      "  [0]]\n",
      "\n",
      " [[0]\n",
      "  [0]\n",
      "  [0]\n",
      "  ..., \n",
      "  [0]\n",
      "  [0]\n",
      "  [0]]]\n",
      "[]\n",
      "[]\n",
      "[]\n",
      "[]\n",
      "[]\n",
      "[]\n",
      "[]\n",
      "[]\n",
      "[]\n",
      "[]\n",
      "[]\n",
      "[]\n",
      "[]\n",
      "[]\n",
      "[]\n",
      "[]\n",
      "[]\n"
     ]
    }
   ],
   "source": [
    "for i in range(k): \n",
    "    print(np.array([data[:,i].toarray() for j in range(data.shape[1]) if clusters[j] == i]))"
   ]
  },
  {
   "cell_type": "code",
   "execution_count": 155,
   "metadata": {
    "scrolled": true
   },
   "outputs": [
    {
     "data": {
      "text/plain": [
       "(814, 1)"
      ]
     },
     "execution_count": 155,
     "metadata": {},
     "output_type": "execute_result"
    }
   ],
   "source": [
    "data[:,3].shape"
   ]
  },
  {
   "cell_type": "code",
   "execution_count": 91,
   "metadata": {},
   "outputs": [
    {
     "data": {
      "text/plain": [
       "(11314,)"
      ]
     },
     "execution_count": 91,
     "metadata": {},
     "output_type": "execute_result"
    }
   ],
   "source": [
    "news_train.target.shape"
   ]
  },
  {
   "cell_type": "code",
   "execution_count": 108,
   "metadata": {
    "scrolled": true
   },
   "outputs": [
    {
     "data": {
      "text/plain": [
       "0.0530316422131872"
      ]
     },
     "execution_count": 108,
     "metadata": {},
     "output_type": "execute_result"
    }
   ],
   "source": [
    "train_labels = news_train.target\n",
    "purity_df = pd.DataFrame([clusters, train_labels]).transpose()\n",
    "purity_df.columns = ['yhat_test', 'y_test']\n",
    "purity_numerator = 0\n",
    "purity_denominator = len(purity_df)\n",
    "\n",
    "for cluster in purity_df['yhat_test'].unique():\n",
    "    \n",
    "    purity_numerator += int(purity_df[purity_df['yhat_test'] == cluster].groupby('y_test')\\\n",
    "                                .count()\\\n",
    "                                .sort_values('yhat_test', ascending=False)\\\n",
    "                                .iloc[0])\n",
    "purity_numerator/purity_denominator"
   ]
  },
  {
   "cell_type": "code",
   "execution_count": 109,
   "metadata": {},
   "outputs": [
    {
     "ename": "IndexError",
     "evalue": "index 1 is out of bounds for axis 0 with size 1",
     "output_type": "error",
     "traceback": [
      "\u001b[0;31m---------------------------------------------------------------------------\u001b[0m",
      "\u001b[0;31mIndexError\u001b[0m                                Traceback (most recent call last)",
      "\u001b[0;32m<ipython-input-109-8eac5e22460c>\u001b[0m in \u001b[0;36m<module>\u001b[0;34m()\u001b[0m\n\u001b[1;32m      6\u001b[0m     \u001b[0;32mif\u001b[0m \u001b[0;34m(\u001b[0m\u001b[0mi\u001b[0m \u001b[0;34m<\u001b[0m \u001b[0mk\u001b[0m\u001b[0;34m)\u001b[0m\u001b[0;34m:\u001b[0m\u001b[0;34m\u001b[0m\u001b[0m\n\u001b[1;32m      7\u001b[0m \u001b[0;34m\u001b[0m\u001b[0m\n\u001b[0;32m----> 8\u001b[0;31m         \u001b[0mgini_coeffs\u001b[0m\u001b[0;34m[\u001b[0m\u001b[0mi\u001b[0m\u001b[0;34m]\u001b[0m\u001b[0;34m[\u001b[0m\u001b[0;36m0\u001b[0m\u001b[0;34m]\u001b[0m \u001b[0;34m=\u001b[0m \u001b[0msum\u001b[0m\u001b[0;34m(\u001b[0m\u001b[0;34m(\u001b[0m\u001b[0;34m(\u001b[0m\u001b[0mpurity_df\u001b[0m\u001b[0;34m[\u001b[0m\u001b[0mpurity_df\u001b[0m\u001b[0;34m[\u001b[0m\u001b[0;34m'yhat_test'\u001b[0m\u001b[0;34m]\u001b[0m \u001b[0;34m==\u001b[0m \u001b[0mcluster\u001b[0m\u001b[0;34m]\u001b[0m\u001b[0;34m.\u001b[0m\u001b[0mgroupby\u001b[0m\u001b[0;34m(\u001b[0m\u001b[0;34m'y_test'\u001b[0m\u001b[0;34m)\u001b[0m                                    \u001b[0;34m.\u001b[0m\u001b[0mcount\u001b[0m\u001b[0;34m(\u001b[0m\u001b[0;34m)\u001b[0m                                    \u001b[0;34m.\u001b[0m\u001b[0msort_values\u001b[0m\u001b[0;34m(\u001b[0m\u001b[0;34m'yhat_test'\u001b[0m\u001b[0;34m,\u001b[0m \u001b[0mascending\u001b[0m\u001b[0;34m=\u001b[0m\u001b[0;32mFalse\u001b[0m\u001b[0;34m)\u001b[0m                            \u001b[0;34m/\u001b[0m\u001b[0mlen\u001b[0m\u001b[0;34m(\u001b[0m\u001b[0mpurity_df\u001b[0m\u001b[0;34m[\u001b[0m\u001b[0mpurity_df\u001b[0m\u001b[0;34m[\u001b[0m\u001b[0;34m'yhat_test'\u001b[0m\u001b[0;34m]\u001b[0m \u001b[0;34m==\u001b[0m \u001b[0mcluster\u001b[0m\u001b[0;34m]\u001b[0m\u001b[0;34m)\u001b[0m\u001b[0;34m)\u001b[0m                            \u001b[0;34m**\u001b[0m\u001b[0;36m2\u001b[0m\u001b[0;34m)\u001b[0m                            \u001b[0;34m[\u001b[0m\u001b[0;34m'yhat_test'\u001b[0m\u001b[0;34m]\u001b[0m\u001b[0;34m)\u001b[0m\u001b[0;34m\u001b[0m\u001b[0m\n\u001b[0m\u001b[1;32m      9\u001b[0m \u001b[0;34m\u001b[0m\u001b[0m\n\u001b[1;32m     10\u001b[0m         \u001b[0mgini_coeffs\u001b[0m\u001b[0;34m[\u001b[0m\u001b[0mi\u001b[0m\u001b[0;34m]\u001b[0m\u001b[0;34m[\u001b[0m\u001b[0;36m1\u001b[0m\u001b[0;34m]\u001b[0m \u001b[0;34m=\u001b[0m \u001b[0mlen\u001b[0m\u001b[0;34m(\u001b[0m\u001b[0mpurity_df\u001b[0m\u001b[0;34m[\u001b[0m\u001b[0mpurity_df\u001b[0m\u001b[0;34m[\u001b[0m\u001b[0;34m'yhat_test'\u001b[0m\u001b[0;34m]\u001b[0m \u001b[0;34m==\u001b[0m \u001b[0mcluster\u001b[0m\u001b[0;34m]\u001b[0m\u001b[0;34m)\u001b[0m\u001b[0;34m\u001b[0m\u001b[0m\n",
      "\u001b[0;31mIndexError\u001b[0m: index 1 is out of bounds for axis 0 with size 1"
     ]
    }
   ],
   "source": [
    "gini_coeffs = np.zeros([len(purity_df['yhat_test'].unique()), 2])\n",
    "i = 0\n",
    "\n",
    "for cluster in clusters:\n",
    "\n",
    "    if (i < k):\n",
    "        \n",
    "        gini_coeffs[i][0] = sum(((purity_df[purity_df['yhat_test'] == cluster].groupby('y_test')\\\n",
    "                                    .count()\\\n",
    "                                    .sort_values('yhat_test', ascending=False)\\\n",
    "                            /len(purity_df[purity_df['yhat_test'] == cluster]))\\\n",
    "                            **2)\\\n",
    "                            ['yhat_test'])\n",
    "\n",
    "        gini_coeffs[i][1] = len(purity_df[purity_df['yhat_test'] == cluster])\n",
    "\n",
    "        i += 1\n",
    "    \n",
    "    else: break\n",
    "\n",
    "sum(gini_coeffs[:,0] * gini_coeffs[:,1]) / sum(gini_coeffs[:,1])"
   ]
  },
  {
   "cell_type": "code",
   "execution_count": 119,
   "metadata": {},
   "outputs": [
    {
     "data": {
      "text/plain": [
       "8.8386070355311994e-05"
      ]
     },
     "execution_count": 119,
     "metadata": {},
     "output_type": "execute_result"
    }
   ],
   "source": [
    "sum((((purity_df[purity_df['yhat_test'] == cluster].groupby('y_test')\\\n",
    "                                    .count()\\\n",
    "                                    .sort_values('yhat_test', ascending=False)))\\\n",
    "                                    /len(purity_df[purity_df['yhat_test'] == cluster])\\\n",
    "                                    **2)\\\n",
    "                                    ['yhat_test'])"
   ]
  },
  {
   "cell_type": "code",
   "execution_count": 125,
   "metadata": {},
   "outputs": [
    {
     "data": {
      "text/plain": [
       "array([  5.05036631e-02,   1.13140000e+04])"
      ]
     },
     "execution_count": 125,
     "metadata": {},
     "output_type": "execute_result"
    }
   ],
   "source": [
    "gini_coeffs[0]"
   ]
  },
  {
   "cell_type": "code",
   "execution_count": 127,
   "metadata": {},
   "outputs": [
    {
     "data": {
      "text/plain": [
       "(1, 2)"
      ]
     },
     "execution_count": 127,
     "metadata": {},
     "output_type": "execute_result"
    }
   ],
   "source": [
    "np.zeros([len(purity_df['yhat_test'].unique()), 2]).shape\n",
    "\n"
   ]
  },
  {
   "cell_type": "code",
   "execution_count": 128,
   "metadata": {
    "scrolled": true
   },
   "outputs": [
    {
     "data": {
      "text/plain": [
       "0        2.0\n",
       "1        2.0\n",
       "2        2.0\n",
       "3        2.0\n",
       "4        2.0\n",
       "5        2.0\n",
       "6        2.0\n",
       "7        2.0\n",
       "8        2.0\n",
       "9        2.0\n",
       "10       2.0\n",
       "11       2.0\n",
       "12       2.0\n",
       "13       2.0\n",
       "14       2.0\n",
       "15       2.0\n",
       "16       2.0\n",
       "17       2.0\n",
       "18       2.0\n",
       "19       2.0\n",
       "20       2.0\n",
       "21       2.0\n",
       "22       2.0\n",
       "23       2.0\n",
       "24       2.0\n",
       "25       2.0\n",
       "26       2.0\n",
       "27       2.0\n",
       "28       2.0\n",
       "29       2.0\n",
       "        ... \n",
       "11284    2.0\n",
       "11285    2.0\n",
       "11286    2.0\n",
       "11287    2.0\n",
       "11288    2.0\n",
       "11289    2.0\n",
       "11290    2.0\n",
       "11291    2.0\n",
       "11292    2.0\n",
       "11293    2.0\n",
       "11294    2.0\n",
       "11295    2.0\n",
       "11296    2.0\n",
       "11297    2.0\n",
       "11298    2.0\n",
       "11299    2.0\n",
       "11300    2.0\n",
       "11301    2.0\n",
       "11302    2.0\n",
       "11303    2.0\n",
       "11304    2.0\n",
       "11305    2.0\n",
       "11306    2.0\n",
       "11307    2.0\n",
       "11308    2.0\n",
       "11309    2.0\n",
       "11310    2.0\n",
       "11311    2.0\n",
       "11312    2.0\n",
       "11313    2.0\n",
       "Name: yhat_test, Length: 11314, dtype: float64"
      ]
     },
     "execution_count": 128,
     "metadata": {},
     "output_type": "execute_result"
    }
   ],
   "source": [
    "purity_df['yhat_test']"
   ]
  },
  {
   "cell_type": "code",
   "execution_count": null,
   "metadata": {
    "collapsed": true
   },
   "outputs": [],
   "source": []
  }
 ],
 "metadata": {
  "kernelspec": {
   "display_name": "Python 3",
   "language": "python",
   "name": "python3"
  },
  "language_info": {
   "codemirror_mode": {
    "name": "ipython",
    "version": 3
   },
   "file_extension": ".py",
   "mimetype": "text/x-python",
   "name": "python",
   "nbconvert_exporter": "python",
   "pygments_lexer": "ipython3",
   "version": "3.6.3"
  }
 },
 "nbformat": 4,
 "nbformat_minor": 2
}
