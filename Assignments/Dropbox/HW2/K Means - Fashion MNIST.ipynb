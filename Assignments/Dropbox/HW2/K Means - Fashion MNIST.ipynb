{
 "cells": [
  {
   "cell_type": "code",
   "execution_count": 2,
   "metadata": {
    "collapsed": true
   },
   "outputs": [],
   "source": [
    "import mnist\n",
    "import scipy.misc\n",
    "import numpy as np\n",
    "from copy import deepcopy\n",
    "import numpy as np\n",
    "import pandas as pd\n",
    "from sklearn.metrics.pairwise import euclidean_distances\n",
    "from matplotlib import pyplot as plt\n",
    "plt.rcParams['figure.figsize'] = (16, 9)\n",
    "plt.style.use('ggplot')\n",
    "%matplotlib inline"
   ]
  },
  {
   "cell_type": "code",
   "execution_count": 14,
   "metadata": {
    "scrolled": true
   },
   "outputs": [],
   "source": [
    "fashion_train_df = pd.read_csv('./data/fashionmnist/fashion-mnist_train.csv')\n",
    "fashion_test_df = pd.read_csv('./data/fashionmnist/fashion-mnist_test.csv')"
   ]
  },
  {
   "cell_type": "code",
   "execution_count": 15,
   "metadata": {},
   "outputs": [],
   "source": [
    "X_train = fashion_train_df.iloc[:,fashion_train_df.columns != 'label']\n",
    "X_test = fashion_test_df.iloc[:,fashion_test_df.columns != 'label']\n",
    "Y_train = fashion_train_df[['label']]\n",
    "Y_test =  fashion_test_df[['label']]"
   ]
  },
  {
   "cell_type": "code",
   "execution_count": 16,
   "metadata": {},
   "outputs": [],
   "source": [
    "data = X_train.transpose()"
   ]
  },
  {
   "cell_type": "code",
   "execution_count": 17,
   "metadata": {
    "collapsed": true
   },
   "outputs": [],
   "source": [
    "def dist(a, b, ax=1):\n",
    "    return np.linalg.norm(a - b, axis=ax)"
   ]
  },
  {
   "cell_type": "code",
   "execution_count": 38,
   "metadata": {},
   "outputs": [
    {
     "data": {
      "text/plain": [
       "(784, 60000)"
      ]
     },
     "execution_count": 38,
     "metadata": {},
     "output_type": "execute_result"
    }
   ],
   "source": [
    "data.shape"
   ]
  },
  {
   "cell_type": "code",
   "execution_count": 18,
   "metadata": {},
   "outputs": [
    {
     "name": "stdout",
     "output_type": "stream",
     "text": [
      "Initial Centroids\n",
      "[[110 125 175 ..., 157 121 125]\n",
      " [ 10 159 253 ...,  45 199  78]\n",
      " [238 201  64 ..., 236  37  24]\n",
      " ..., \n",
      " [161  53  41 ..., 247 189  79]\n",
      " [ 19 162 126 ..., 198  29 224]\n",
      " [235 246 141 ..., 196 216  19]]\n"
     ]
    }
   ],
   "source": [
    "k = 10\n",
    "\n",
    "centroids = np.array([np.random.randint(0, 255, size=data.shape[0]) for i in range(k)])\n",
    "\n",
    "print(\"Initial Centroids\")\n",
    "print(centroids)"
   ]
  },
  {
   "cell_type": "code",
   "execution_count": 19,
   "metadata": {},
   "outputs": [
    {
     "data": {
      "text/plain": [
       "(10, 784)"
      ]
     },
     "execution_count": 19,
     "metadata": {},
     "output_type": "execute_result"
    }
   ],
   "source": [
    "centroids.shape"
   ]
  },
  {
   "cell_type": "code",
   "execution_count": 20,
   "metadata": {
    "collapsed": true,
    "scrolled": true
   },
   "outputs": [],
   "source": [
    "old_centroids = np.zeros(centroids.shape)"
   ]
  },
  {
   "cell_type": "code",
   "execution_count": 21,
   "metadata": {
    "collapsed": true
   },
   "outputs": [],
   "source": [
    "clusters       = np.zeros(data.shape[1])\n",
    "error_function = dist(centroids, old_centroids, None)"
   ]
  },
  {
   "cell_type": "code",
   "execution_count": 22,
   "metadata": {},
   "outputs": [
    {
     "data": {
      "text/plain": [
       "13012.441200635643"
      ]
     },
     "execution_count": 22,
     "metadata": {},
     "output_type": "execute_result"
    }
   ],
   "source": [
    "error_function"
   ]
  },
  {
   "cell_type": "code",
   "execution_count": 23,
   "metadata": {
    "collapsed": true
   },
   "outputs": [],
   "source": [
    "error_function_plot = []"
   ]
  },
  {
   "cell_type": "code",
   "execution_count": 466,
   "metadata": {},
   "outputs": [
    {
     "ename": "TypeError",
     "evalue": "'numpy.float64' object is not iterable",
     "output_type": "error",
     "traceback": [
      "\u001b[0;31m---------------------------------------------------------------------------\u001b[0m",
      "\u001b[0;31mTypeError\u001b[0m                                 Traceback (most recent call last)",
      "\u001b[0;32m<ipython-input-466-c9d108b14577>\u001b[0m in \u001b[0;36m<module>\u001b[0;34m()\u001b[0m\n\u001b[0;32m----> 1\u001b[0;31m \u001b[0;32mwhile\u001b[0m \u001b[0mmax\u001b[0m\u001b[0;34m(\u001b[0m\u001b[0merror_function\u001b[0m\u001b[0;34m)\u001b[0m \u001b[0;34m>\u001b[0m \u001b[0;36m10\u001b[0m\u001b[0;34m:\u001b[0m\u001b[0;34m\u001b[0m\u001b[0m\n\u001b[0m\u001b[1;32m      2\u001b[0m \u001b[0;34m\u001b[0m\u001b[0m\n\u001b[1;32m      3\u001b[0m     \u001b[0mprint\u001b[0m \u001b[0;34m(\u001b[0m\u001b[0merror_function\u001b[0m\u001b[0;34m)\u001b[0m\u001b[0;34m\u001b[0m\u001b[0m\n\u001b[1;32m      4\u001b[0m \u001b[0;34m\u001b[0m\u001b[0m\n\u001b[1;32m      5\u001b[0m     \u001b[0merror_function_plot\u001b[0m\u001b[0;34m.\u001b[0m\u001b[0mappend\u001b[0m\u001b[0;34m(\u001b[0m\u001b[0mlist\u001b[0m\u001b[0;34m(\u001b[0m\u001b[0merror_function\u001b[0m\u001b[0;34m)\u001b[0m\u001b[0;34m)\u001b[0m\u001b[0;34m\u001b[0m\u001b[0m\n",
      "\u001b[0;31mTypeError\u001b[0m: 'numpy.float64' object is not iterable"
     ]
    }
   ],
   "source": [
    "while max(error_function) > 10:\n",
    "    \n",
    "    print (error_function)\n",
    "    \n",
    "    error_function_plot.append(list(error_function))\n",
    "\n",
    "    for i in range(len(clusters)):\n",
    "        #clusters[i] = np.argmin([np.linalg.norm(data[i] - centroid) for centroid in centroids])  \n",
    "        clusters[i] = np.argmin([euclidean_distances(np.array(data[i]).reshape(1,-1),centroid.reshape(1,-1)) for centroid in centroids])\n",
    "\n",
    "    centroids_old = deepcopy(centroids)\n",
    "\n",
    "    for i in range(k):\n",
    "        points      = np.array([data[j] for j in range(len(data)) if clusters[j] == i])\n",
    "        centroids[i] = np.array(np.mean(points, axis= 0))\n",
    "\n",
    "    error_function = euclidean_distances(centroids, old_centroids)"
   ]
  },
  {
   "cell_type": "code",
   "execution_count": 36,
   "metadata": {
    "scrolled": true
   },
   "outputs": [
    {
     "name": "stdout",
     "output_type": "stream",
     "text": [
      "9486.67671\n",
      "9481.87122882\n",
      "9477.32267046\n",
      "9473.48742544\n",
      "9470.48546802\n",
      "9467.07462736\n",
      "9464.8347582\n",
      "9462.69876938\n",
      "9460.53058766\n"
     ]
    }
   ],
   "source": [
    "prev_error_function = 9999\n",
    "\n",
    "\n",
    "while abs(prev_error_function - error_function) > 1:\n",
    "    \n",
    "    print (error_function)\n",
    "    \n",
    "    error_function_plot.append(error_function)\n",
    "\n",
    "    for i in range(len(clusters)):\n",
    "        clusters[i] = np.argmin([np.linalg.norm(data[i] - centroid) for centroid in centroids])  \n",
    "\n",
    "\n",
    "    centroids_old = deepcopy(centroids)\n",
    "\n",
    "    for i in range(k):\n",
    "        points       = np.array([data[j] for j in range(data.shape[1]) if clusters[j] == i])\n",
    "        centroids[i] = np.array(np.mean(points, axis= 0))\n",
    "\n",
    "    prev_error_function = error_function\n",
    "    error_function      = dist(centroids, old_centroids, None)"
   ]
  },
  {
   "cell_type": "code",
   "execution_count": 26,
   "metadata": {},
   "outputs": [
    {
     "data": {
      "text/plain": [
       "array([ 9.47366119,  9.14719957,  9.17991007,  9.18583298,  9.18208337,\n",
       "        9.17829681,  9.17291018,  9.16791011,  9.16433675,  9.16157602,\n",
       "        9.15970153,  9.1584337 ,  9.15764364])"
      ]
     },
     "execution_count": 26,
     "metadata": {},
     "output_type": "execute_result"
    }
   ],
   "source": [
    "np.log(error_function_plot)"
   ]
  },
  {
   "cell_type": "code",
   "execution_count": 37,
   "metadata": {},
   "outputs": [
    {
     "data": {
      "text/plain": [
       "[<matplotlib.lines.Line2D at 0x7fc3b341ffd0>]"
      ]
     },
     "execution_count": 37,
     "metadata": {},
     "output_type": "execute_result"
    },
    {
     "data": {
      "image/png": "[encoded data removed]",
      "text/plain": [
       "<matplotlib.figure.Figure at 0x7fc3b94cde80>"
      ]
     },
     "metadata": {},
     "output_type": "display_data"
    }
   ],
   "source": [
    "plt.plot(np.log(error_function_plot))"
   ]
  },
  {
   "cell_type": "code",
   "execution_count": 32,
   "metadata": {
    "scrolled": true
   },
   "outputs": [
    {
     "data": {
      "text/plain": [
       "0.5884"
      ]
     },
     "execution_count": 32,
     "metadata": {},
     "output_type": "execute_result"
    }
   ],
   "source": [
    "train_labels = Y_train['label']\n",
    "purity_df = pd.DataFrame([clusters, train_labels]).transpose()\n",
    "purity_df.columns = ['yhat_test', 'y_test']\n",
    "purity_numerator = 0\n",
    "purity_denominator = len(purity_df)\n",
    "\n",
    "for cluster in purity_df['yhat_test'].unique():\n",
    "    \n",
    "    purity_numerator += int(purity_df[purity_df['yhat_test'] == cluster].groupby('y_test')\\\n",
    "                                .count()\\\n",
    "                                .sort_values('yhat_test', ascending=False)\\\n",
    "                                .iloc[0])\n",
    "purity_numerator/purity_denominator"
   ]
  },
  {
   "cell_type": "code",
   "execution_count": 35,
   "metadata": {},
   "outputs": [
    {
     "data": {
      "text/plain": [
       "0.41918642309909382"
      ]
     },
     "execution_count": 35,
     "metadata": {},
     "output_type": "execute_result"
    }
   ],
   "source": [
    "gini_coeffs = np.zeros([len(purity_df['yhat_test'].unique()), 2])\n",
    "i = 0\n",
    "\n",
    "for cluster in clusters:\n",
    "\n",
    "    if (i < k):\n",
    "        \n",
    "        gini_coeffs[i][0] = sum(((purity_df[purity_df['yhat_test'] == cluster].groupby('y_test')\\\n",
    "                                    .count()\\\n",
    "                                    .sort_values('yhat_test', ascending=False)\\\n",
    "                            /len(purity_df[purity_df['yhat_test'] == cluster]))\\\n",
    "                            **2)\\\n",
    "                            ['yhat_test'])\n",
    "\n",
    "        gini_coeffs[i][1] = len(purity_df[purity_df['yhat_test'] == cluster])\n",
    "\n",
    "        i += 1\n",
    "    \n",
    "    else: break\n",
    "\n",
    "sum(gini_coeffs[:,0] * gini_coeffs[:,1]) / sum(gini_coeffs[:,1])"
   ]
  },
  {
   "cell_type": "code",
   "execution_count": null,
   "metadata": {
    "collapsed": true
   },
   "outputs": [],
   "source": []
  }
 ],
 "metadata": {
  "kernelspec": {
   "display_name": "Python 3",
   "language": "python",
   "name": "python3"
  },
  "language_info": {
   "codemirror_mode": {
    "name": "ipython",
    "version": 3
   },
   "file_extension": ".py",
   "mimetype": "text/x-python",
   "name": "python",
   "nbconvert_exporter": "python",
   "pygments_lexer": "ipython3",
   "version": "3.6.3"
  }
 },
 "nbformat": 4,
 "nbformat_minor": 2
}
