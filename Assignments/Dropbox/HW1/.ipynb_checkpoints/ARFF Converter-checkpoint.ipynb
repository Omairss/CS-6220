{
 "cells": [
  {
   "cell_type": "code",
   "execution_count": 1,
   "metadata": {},
   "outputs": [
    {
     "ename": "ModuleNotFoundError",
     "evalue": "No module named 'arff'",
     "output_type": "error",
     "traceback": [
      "\u001b[0;31m---------------------------------------------------------------------------\u001b[0m",
      "\u001b[0;31mModuleNotFoundError\u001b[0m                       Traceback (most recent call last)",
      "\u001b[0;32m<ipython-input-1-3e4997c19b46>\u001b[0m in \u001b[0;36m<module>\u001b[0;34m()\u001b[0m\n\u001b[1;32m      4\u001b[0m \u001b[0;32mimport\u001b[0m \u001b[0mnumpy\u001b[0m \u001b[0;32mas\u001b[0m \u001b[0mnp\u001b[0m\u001b[0;34m\u001b[0m\u001b[0m\n\u001b[1;32m      5\u001b[0m \u001b[0;32mfrom\u001b[0m \u001b[0mmultiprocessing\u001b[0m \u001b[0;32mimport\u001b[0m \u001b[0mPool\u001b[0m\u001b[0;34m\u001b[0m\u001b[0m\n\u001b[0;32m----> 6\u001b[0;31m \u001b[0;32mimport\u001b[0m \u001b[0marff\u001b[0m\u001b[0;34m\u001b[0m\u001b[0m\n\u001b[0m",
      "\u001b[0;31mModuleNotFoundError\u001b[0m: No module named 'arff'"
     ]
    }
   ],
   "source": [
    "import re\n",
    "import collections\n",
    "import pandas as pd\n",
    "import numpy as np\n",
    "from multiprocessing import Pool\n",
    "import arff"
   ]
  },
  {
   "cell_type": "markdown",
   "metadata": {},
   "source": [
    "#### A. Write a Python program which takes as its argument5 the path to a text file of data (assumed to be in the itemset format above) and produces as output to the console a sparse ARFF file.\n",
    "\n",
    "#### B. Use your program to convert the kosarak.dat file to a sparse kosarak.arff. About how long did it take to run?\n"
   ]
  },
  {
   "cell_type": "code",
   "execution_count": 1,
   "metadata": {
    "collapsed": true
   },
   "outputs": [],
   "source": [
    "import sys\n",
    "\n",
    "\n",
    "def arff_parser(in_target, file_output):\n",
    "\n",
    "    with open(in_target, 'r') as file_input, open(file_output, 'w') as outfile:\n",
    "\n",
    "        lines      = file_input.read().splitlines()        \n",
    "        _max       = 0\n",
    "        out_string = []\n",
    "        \n",
    "        for line in lines:\n",
    "            substring = \"{\"\n",
    "            \n",
    "            for element in sorted(set(map(int, line.split(' ')))):\n",
    "                _max      = max(_max, element)\n",
    "                substring += str(element - 1) + \" 1, \" \n",
    "            \n",
    "            substring = substring[:-2] + \"}\\n\"\n",
    "            out_string.append(substring)\n",
    "\n",
    "        outfile.write(\"@RELATION kosarak\\n\")\n",
    "\n",
    "        for x in range(1, _max + 1):\n",
    "            outfile.write(\"@ATTRIBUTE id\" + str(x) + \" {0, 1}\\n\")\n",
    "\n",
    "        outfile.write(\"@DATA\\n\")\n",
    "        \n",
    "        for out_line in out_string:\n",
    "            outfile.write(out_line)\n",
    "\n",
    "        \n",
    "arff_parser(\"../data/kosarak.dat\", \"../data/kosarak.arff\")"
   ]
  },
  {
   "cell_type": "markdown",
   "metadata": {},
   "source": [
    "#### C. Load the resulting file into Weka (as described above; you should have 41,270 attributes and 990, 002 instances). About how long did it take to load this file?\n",
    "\n",
    "It took about a minute to load the file.\n",
    "\n",
    "#### D. Use Weka’s FP-Growth implementation to find rules that have support count of at least 49, 500 and confidence of at least 99% – record your rules (there should be 2).\n",
    "1. [id11=1, id218=1, id148=1]: 50098 ==> [id6=1]: 49866   conf:(1) lift:(1.64) lev:(0.02) conv:(84.4) \n",
    "2. [id11=1, id148=1]: 55759 ==> [id6=1]: 55230   conf:(0.99) lift:(1.63) lev:(0.02) conv:(41.3)\n",
    "\n",
    "#### E. Run the algorithm at least 5 times. Then look to the log and record how much time each took. How does the average time compare to the time necessary to convert the dataset and then load into Weka?\n",
    "\n",
    "19:00:35: Weka Explorer\n",
    "19:00:35: (c) 1999-2017 The University of Waikato, Hamilton, New Zealand\n",
    "19:00:35: web: http://www.cs.waikato.ac.nz/~ml/weka/\n",
    "19:00:35: Started on Sunday, 28 January 2018\n",
    "19:13:56: Base relation is now kosarak (990002 instances)\n",
    "19:18:52: Started weka.associations.FPGrowth\n",
    "19:18:52: Command: weka.associations.FPGrowth -P 2 -I -1 -N 10 -T 0 -C 0.9 -D 0.05 -U 1.0 -M 0.1\n",
    "19:18:57: Finished weka.associations.FPGrowth\n",
    "19:20:04: Started weka.associations.FPGrowth\n",
    "19:20:04: Command: weka.associations.FPGrowth -P 2 -I -1 -N 10 -T 0 -C 0.9 -D 0.05 -U 1.0 -M 0.1\n",
    "19:20:06: Finished weka.associations.FPGrowth\n",
    "19:21:50: Started weka.associations.FPGrowth\n",
    "19:21:50: Command: weka.associations.FPGrowth -P 2 -I -1 -N 10 -T 0 -C 0.9 -D 0.05 -U 1.0 -M 49500.0 -S\n",
    "19:21:50: Finished weka.associations.FPGrowth\n",
    "19:22:21: Started weka.associations.FPGrowth\n",
    "19:22:21: Command: weka.associations.FPGrowth -P 2 -I -1 -N 10 -T 0 -C 0.99 -D 0.05 -U 1.0 -M 49500.0 -S\n",
    "19:22:21: Finished weka.associations.FPGrowth\n",
    "19:22:38: Started weka.associations.FPGrowth\n",
    "19:22:38: Command: weka.associations.FPGrowth -P 2 -I -1 -N 10 -T 0 -C 0.99 -D 0.05 -U 1.0 -M 49500.0 -S\n",
    "19:22:38: Finished weka.associations.FPGrowth\n",
    "19:22:40: Started weka.associations.FPGrowth\n",
    "19:22:40: Command: weka.associations.FPGrowth -P 2 -I -1 -N 10 -T 0 -C 0.99 -D 0.05 -U 1.0 -M 49500.0 -S\n",
    "19:22:41: Finished weka.associations.FPGrowth\n",
    "19:22:47: Started weka.associations.FPGrowth\n",
    "19:22:47: Command: weka.associations.FPGrowth -P 2 -I -1 -N 10 -T 0 -C 0.99 -D 0.05 -U 1.0 -M 49500.0 -S\n",
    "19:22:47: Finished weka.associations.FPGrowth\n",
    "19:22:48: Started weka.associations.FPGrowth\n",
    "19:22:48: Command: weka.associations.FPGrowth -P 2 -I -1 -N 10 -T 0 -C 0.99 -D 0.05 -U 1.0 -M 49500.0 -S\n",
    "19:22:48: Finished weka.associations.FPGrowth\n",
    "\n",
    "It takes less than a secind to find associations in this case."
   ]
  },
  {
   "cell_type": "code",
   "execution_count": null,
   "metadata": {
    "collapsed": true
   },
   "outputs": [],
   "source": []
  }
 ],
 "metadata": {
  "kernelspec": {
   "display_name": "Python 3",
   "language": "python",
   "name": "python3"
  },
  "language_info": {
   "codemirror_mode": {
    "name": "ipython",
    "version": 3
   },
   "file_extension": ".py",
   "mimetype": "text/x-python",
   "name": "python",
   "nbconvert_exporter": "python",
   "pygments_lexer": "ipython3",
   "version": "3.6.3"
  }
 },
 "nbformat": 4,
 "nbformat_minor": 2
}
