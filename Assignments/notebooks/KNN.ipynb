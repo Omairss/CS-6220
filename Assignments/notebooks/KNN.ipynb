{
 "cells": [
  {
   "cell_type": "code",
   "execution_count": 27,
   "metadata": {
    "collapsed": true
   },
   "outputs": [],
   "source": [
    "import mnist\n",
    "import scipy.misc\n",
    "from sklearn.preprocessing import MinMaxScaler\n",
    "from sklearn.preprocessing import StandardScaler\n",
    "import numpy as np\n",
    "import datetime\n",
    "np.set_printoptions(suppress=True)\n",
    "from os import listdir\n",
    "from os.path import isfile, join\n",
    "from math import*\n",
    "from decimal import Decimal\n",
    "from collections import defaultdict\n",
    "from sklearn.datasets import fetch_20newsgroups\n",
    "from sklearn.metrics.pairwise import cosine_similarity, euclidean_distances\n",
    "from sklearn.feature_extraction.text import CountVectorizer"
   ]
  },
  {
   "cell_type": "code",
   "execution_count": 2,
   "metadata": {
    "collapsed": true
   },
   "outputs": [],
   "source": [
    "#scipy.misc.toimage(scipy.misc.imresize(images[0,:,:] * -1 + 256, 10.))\n",
    "\n",
    "train_images = mnist.train_images()\n",
    "train_labels = mnist.train_labels()\n",
    "\n",
    "test_images = mnist.test_images()\n",
    "test_labels = mnist.test_labels()"
   ]
  },
  {
   "cell_type": "markdown",
   "metadata": {},
   "source": [
    "## Shift-and-scale normalization:"
   ]
  },
  {
   "cell_type": "code",
   "execution_count": 3,
   "metadata": {},
   "outputs": [
    {
     "name": "stderr",
     "output_type": "stream",
     "text": [
      "/opt/conda/lib/python3.6/site-packages/sklearn/utils/validation.py:475: DataConversionWarning: Data with input dtype uint8 was converted to float64 by StandardScaler.\n",
      "  warnings.warn(msg, DataConversionWarning)\n"
     ]
    },
    {
     "name": "stdout",
     "output_type": "stream",
     "text": [
      "Max: 99.994999875\n",
      "Min: -1.31006468485\n",
      "Mean: 0.000000\n",
      "Variance: 0.852041\n"
     ]
    }
   ],
   "source": [
    "scaler              = StandardScaler()\n",
    "\n",
    "scaled_train_images = scaler.fit_transform(train_images.reshape\\\n",
    "                                     ((train_images.shape[0], train_images.shape[1] * train_images.shape[2])))\n",
    "scaled_test_images  = scaler.fit_transform(test_images.reshape\\\n",
    "                                     ((test_images.shape[0], test_images.shape[1] * test_images.shape[2])))\n",
    "\n",
    "print ('Max: ' + str(scaled_test_images.max()))\n",
    "print ('Min: ' + str(scaled_test_images.min()))\n",
    "print ('Mean: %f' % (scaled_test_images.mean()))\n",
    "print ('Variance: %f' % (scaled_test_images.var()))"
   ]
  },
  {
   "cell_type": "markdown",
   "metadata": {},
   "source": [
    "## Zero mean, unit variance:"
   ]
  },
  {
   "cell_type": "code",
   "execution_count": 4,
   "metadata": {},
   "outputs": [
    {
     "name": "stdout",
     "output_type": "stream",
     "text": [
      "Original Max: 255\n",
      "Original Min: 0\n"
     ]
    },
    {
     "name": "stderr",
     "output_type": "stream",
     "text": [
      "/opt/conda/lib/python3.6/site-packages/sklearn/utils/validation.py:475: DataConversionWarning: Data with input dtype uint8 was converted to float64 by MinMaxScaler.\n",
      "  warnings.warn(msg, DataConversionWarning)\n"
     ]
    },
    {
     "name": "stdout",
     "output_type": "stream",
     "text": [
      "Max: 1.0\n",
      "Min: 0.0\n",
      "Mean: 0.130663\n",
      "Variance: 0.094932\n"
     ]
    }
   ],
   "source": [
    "print ('Original Max: ' + str(train_images.max()))\n",
    "print ('Original Min: ' + str(train_images.min()))\n",
    "\n",
    "scaler  = MinMaxScaler(feature_range=(0, 1))\n",
    "scaled_train_images = scaler.fit_transform(train_images.reshape\\\n",
    "                                          ((train_images.shape[0], train_images.shape[1] * train_images.shape[2])))\n",
    "\n",
    "print ('Max: ' + str(scaled_train_images.max()))\n",
    "print ('Min: ' + str(scaled_train_images.min()))\n",
    "print ('Mean: %f' % (scaled_train_images.mean()))\n",
    "print ('Variance: %f' % (scaled_train_images.var()))"
   ]
  },
  {
   "cell_type": "markdown",
   "metadata": {},
   "source": [
    "##  20 NG KNN"
   ]
  },
  {
   "cell_type": "code",
   "execution_count": 20,
   "metadata": {
    "collapsed": true
   },
   "outputs": [],
   "source": [
    "news_train = fetch_20newsgroups(data_home='../data/20newsgroups/', \n",
    "                                subset='train', \n",
    "                                remove=('headers', 'footers', 'quotes'))\n",
    "news_test = fetch_20newsgroups(data_home='../data/20newsgroups/', \n",
    "                                subset='test', \n",
    "                                remove=('headers', 'footers', 'quotes'))"
   ]
  },
  {
   "cell_type": "code",
   "execution_count": 21,
   "metadata": {
    "collapsed": true
   },
   "outputs": [],
   "source": [
    "vectorizer                = CountVectorizer(binary=True, stop_words='english')\n",
    "counts_train              = vectorizer.fit_transform(news_train.data)\n",
    "counts_test               = vectorizer.transform(news_test.data)\n",
    "cos_similarity_train      = cosine_similarity(counts_train)\n",
    "cos_similarity_train_test = cosine_similarity(X=counts_test, Y=counts_train)"
   ]
  },
  {
   "cell_type": "code",
   "execution_count": 23,
   "metadata": {},
   "outputs": [
    {
     "name": "stdout",
     "output_type": "stream",
     "text": [
      "The training accuracy is: 0.423192504861\n",
      "The testing accuracy is: 0.312267657993\n"
     ]
    }
   ],
   "source": [
    "news_train_len = len(news_train.data)\n",
    "news_test_len  = len(news_test.data)\n",
    "k              = 5\n",
    "\n",
    "def knn(index, k, similarity_matrix):\n",
    "    return news_train.target[max(similarity_matrix[index].argsort()[-(k + 1):-1])]\n",
    "\n",
    "train_predict = []\n",
    "\n",
    "for doc_index in range(news_train_len):\n",
    "    y = news_train.target[doc_index]\n",
    "    yhat = knn(doc_index, k, cos_similarity_train)\n",
    "    train_predict.append(y == yhat)\n",
    "    \n",
    "print ('The training accuracy is: ' + str(np.mean(train_predict)))\n",
    "    \n",
    "test_predict = []\n",
    "\n",
    "for doc_index in range(news_test_len):\n",
    "    y = news_test.target[doc_index]\n",
    "    yhat = knn(doc_index, k, cos_similarity_train_test)\n",
    "    test_predict.append(y == yhat)\n",
    "    \n",
    "print ('The testing accuracy is: ' + str(np.mean(test_predict)))"
   ]
  },
  {
   "cell_type": "code",
   "execution_count": 24,
   "metadata": {},
   "outputs": [
    {
     "name": "stdout",
     "output_type": "stream",
     "text": [
      "(24022, 784)\n",
      "(24022,)\n",
      "(10000, 784)\n",
      "(10000,)\n"
     ]
    }
   ],
   "source": [
    "choice_maker               = np.random.choice([True, False], len(scaled_train_images), p = [0.4, 0.6])\n",
    "scaled_train_images_sample = scaled_train_images[choice_maker]\n",
    "train_label_sample         = train_labels[choice_maker]\n",
    "\n",
    "print(scaled_train_images_sample.shape)\n",
    "print(train_label_sample.shape)\n",
    "\n",
    "print(scaled_test_images.shape)\n",
    "print(test_labels.shape)"
   ]
  },
  {
   "cell_type": "code",
   "execution_count": 28,
   "metadata": {
    "collapsed": true,
    "scrolled": true
   },
   "outputs": [],
   "source": [
    "euc_similarity_matrix_train  = euclidean_distances(X=scaled_train_images_sample, Y=scaled_train_images_sample)\n",
    "cos_similarity_matrix_train  = cosine_similarity(X=scaled_train_images_sample, Y=scaled_train_images_sample)"
   ]
  },
  {
   "cell_type": "code",
   "execution_count": 30,
   "metadata": {
    "collapsed": true
   },
   "outputs": [],
   "source": [
    "euc_similarity_matrix_test  = euclidean_distances(X=scaled_test_images, Y=scaled_train_images_sample)\n",
    "cos_similarity_matrix_test  = cosine_similarity(X=scaled_test_images, Y=scaled_train_images_sample)"
   ]
  },
  {
   "cell_type": "code",
   "execution_count": 20,
   "metadata": {
    "collapsed": true
   },
   "outputs": [],
   "source": [
    "#np.save('../data/similarity_matrix_coz', cos_similarity_matrix)\n",
    "#cos_similarity_matrix = np.load('../data/similarity_matrix_coz.npy')\n",
    "\n"
   ]
  },
  {
   "cell_type": "code",
   "execution_count": 8,
   "metadata": {
    "collapsed": true
   },
   "outputs": [],
   "source": [
    "scaled_train_images_sample_array = np.array(scaled_train_images_sample)\n",
    "scaled_test_images_array = np.array(scaled_test_images)\n",
    "train_label_sample_array = np.array(train_label_sample)\n",
    "test_labels_array = np.array(test_labels)"
   ]
  },
  {
   "cell_type": "code",
   "execution_count": 9,
   "metadata": {
    "collapsed": true
   },
   "outputs": [],
   "source": [
    "def mnist_knn(index, k, similarity_matrix):\n",
    "    return np.array(similarity_matrix[index,:]).argsort()[-(k+1):-1]"
   ]
  },
  {
   "cell_type": "markdown",
   "metadata": {},
   "source": [
    "## Cosine"
   ]
  },
  {
   "cell_type": "code",
   "execution_count": 62,
   "metadata": {
    "collapsed": true
   },
   "outputs": [],
   "source": [
    "predict = []\n",
    "for index in range(len(scaled_train_images_sample)):\n",
    "    \n",
    "    #print (index)    \n",
    "    y_select = train_label_sample_array[index]\n",
    "    yhat = max(train_label_sample_array[mnist_knn(index, 5, cos_similarity_matrix_train)])\n",
    "    predict.append(y_select == yhat)"
   ]
  },
  {
   "cell_type": "code",
   "execution_count": 65,
   "metadata": {},
   "outputs": [
    {
     "data": {
      "text/plain": [
       "0.92794860027535564"
      ]
     },
     "execution_count": 65,
     "metadata": {},
     "output_type": "execute_result"
    }
   ],
   "source": [
    "np.mean(predict)"
   ]
  },
  {
   "cell_type": "code",
   "execution_count": 16,
   "metadata": {
    "collapsed": true
   },
   "outputs": [],
   "source": [
    "test_predict = []\n",
    "for index in range(len(scaled_test_images_array)):\n",
    "    #print (mnist_knn(index, 5, cos_similarity_matrix_test))\n",
    "    y_select = test_labels[index]\n",
    "    yhat = max(train_label_sample_array[mnist_knn(index, 5, cos_similarity_matrix_test)])\n",
    "    test_predict.append(y_select == yhat)"
   ]
  },
  {
   "cell_type": "code",
   "execution_count": 17,
   "metadata": {},
   "outputs": [
    {
     "data": {
      "text/plain": [
       "0.91279999999999994"
      ]
     },
     "execution_count": 17,
     "metadata": {},
     "output_type": "execute_result"
    }
   ],
   "source": [
    "np.mean(test_predict)"
   ]
  },
  {
   "cell_type": "markdown",
   "metadata": {},
   "source": [
    "## Euclidean"
   ]
  },
  {
   "cell_type": "code",
   "execution_count": 35,
   "metadata": {
    "collapsed": true
   },
   "outputs": [],
   "source": [
    "test_predict = []\n",
    "for index in range(len(scaled_test_images_array)):\n",
    "    #print (mnist_knn(index, 5, cos_similarity_matrix_test))\n",
    "    y_select = test_labels[index]\n",
    "    yhat = min(train_label_sample_array[mnist_knn(index, 5, cos_similarity_matrix_test)])\n",
    "    test_predict.append(y_select == yhat)"
   ]
  },
  {
   "cell_type": "code",
   "execution_count": 36,
   "metadata": {},
   "outputs": [
    {
     "data": {
      "text/plain": [
       "0.84730000000000005"
      ]
     },
     "execution_count": 36,
     "metadata": {},
     "output_type": "execute_result"
    }
   ],
   "source": [
    "np.mean(test_predict)"
   ]
  },
  {
   "cell_type": "code",
   "execution_count": null,
   "metadata": {
    "collapsed": true
   },
   "outputs": [],
   "source": []
  }
 ],
 "metadata": {
  "kernelspec": {
   "display_name": "Python 3",
   "language": "python",
   "name": "python3"
  },
  "language_info": {
   "codemirror_mode": {
    "name": "ipython",
    "version": 3
   },
   "file_extension": ".py",
   "mimetype": "text/x-python",
   "name": "python",
   "nbconvert_exporter": "python",
   "pygments_lexer": "ipython3",
   "version": "3.6.3"
  }
 },
 "nbformat": 4,
 "nbformat_minor": 2
}
