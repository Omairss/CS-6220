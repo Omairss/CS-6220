{
 "cells": [
  {
   "cell_type": "code",
   "execution_count": 1,
   "metadata": {},
   "outputs": [],
   "source": [
    "import numpy as np\n",
    "import networkx as nx\n",
    "\n",
    "from copy import deepcopy\n",
    "\n",
    "import matplotlib.pyplot as plt\n",
    "%matplotlib inline"
   ]
  },
  {
   "cell_type": "code",
   "execution_count": 2,
   "metadata": {},
   "outputs": [],
   "source": [
    "edges = np.genfromtxt('../../data/Flickr_sampled_edges/edges_sampled_map_2K.csv', delimiter=',', dtype='int64')\n",
    "y = np.genfromtxt('../../data/Flickr_sampled_edges/community_membership_2K.csv', delimiter=',', dtype='int')\n",
    "y = [t[1] for t in y]"
   ]
  },
  {
   "cell_type": "code",
   "execution_count": 3,
   "metadata": {},
   "outputs": [],
   "source": [
    "def shortest_path(G, s):\n",
    "    S = []\n",
    "    P = {}\n",
    "    for v in G:\n",
    "        P[v] = []\n",
    "    sigma = dict.fromkeys(G, 0.0)    # sigma[v]=0 for v in G\n",
    "    D = {}\n",
    "    sigma[s] = 1.0\n",
    "    D[s] = 0\n",
    "    Q = [s]\n",
    "    while Q:   # use BFS to find shortest paths\n",
    "        v = Q.pop(0)\n",
    "        S.append(v)\n",
    "        Dv = D[v]\n",
    "        sigmav = sigma[v]\n",
    "        for w in G[v]:\n",
    "            if w not in D:\n",
    "                Q.append(w)\n",
    "                D[w] = Dv + 1\n",
    "            if D[w] == Dv + 1:   # this is a shortest path, count paths\n",
    "                sigma[w] += sigmav\n",
    "                P[w].append(v)  # predecessors\n",
    "    return S, P, sigma\n",
    "\n",
    "def accumulate(betweenness, S, P, sigma, s):\n",
    "    delta = dict.fromkeys(S, 0)\n",
    "    while S:\n",
    "        w = S.pop()\n",
    "        coeff = (1.0 + delta[w]) / sigma[w]\n",
    "        for v in P[w]:\n",
    "            c = sigma[v] * coeff\n",
    "            if (v, w) not in betweenness:\n",
    "                betweenness[(w, v)] += c\n",
    "            else:\n",
    "                betweenness[(v, w)] += c\n",
    "            delta[v] += c\n",
    "        if w != s:\n",
    "            betweenness[w] += delta[w]\n",
    "    return betweenness\n",
    "\n",
    "def rescale(betweenness, n):\n",
    "    if n <= 1:\n",
    "        scale = None  # no normalization b=0 for all nodes\n",
    "    else:\n",
    "        scale = 1.0 / (n * (n - 1))\n",
    "    if scale is not None:\n",
    "        for v in betweenness:\n",
    "            betweenness[v] *= scale\n",
    "    return betweenness"
   ]
  },
  {
   "cell_type": "code",
   "execution_count": 4,
   "metadata": {},
   "outputs": [],
   "source": [
    "def betweeness(G):\n",
    "    betweenness = dict.fromkeys(G, 0.0)  # b[v]=0 for v in G\n",
    "    # b[e]=0 for e in G.edges()\n",
    "    betweenness.update(dict.fromkeys(G.edges(), 0.0))\n",
    "    nodes = G\n",
    "    \n",
    "    for s in nodes:\n",
    "        # single source shortest paths use BFS\n",
    "        S, P, sigma = shortest_path(G, s)\n",
    "        # accumulation\n",
    "        betweenness = accumulate(betweenness, S, P, sigma, s)\n",
    "    # rescaling\n",
    "    for n in G:  # remove nodes to only return edges\n",
    "        del betweenness[n]\n",
    "    betweenness = rescale(betweenness, len(G))\n",
    "    return betweenness"
   ]
  },
  {
   "cell_type": "code",
   "execution_count": 5,
   "metadata": {},
   "outputs": [],
   "source": [
    "def modularity(_G, G):    \n",
    "    B = nx.modularity_matrix(_G)\n",
    "    \n",
    "    c = {}\n",
    "    for i, x in enumerate(sorted(nx.connected_components(G), key = len, reverse=True)):\n",
    "        for n in x:\n",
    "            c[n] = i\n",
    "    \n",
    "    _sum = 0\n",
    "    n = len(_G)\n",
    "    m = _G.number_of_edges()\n",
    "    for i in range(n):\n",
    "        for j in range(n):\n",
    "            d = 1 if c[i] == c[j] else 0\n",
    "            _sum += d * B.item((i, j))\n",
    "            \n",
    "    return _sum / (2 * m)"
   ]
  },
  {
   "cell_type": "code",
   "execution_count": 6,
   "metadata": {},
   "outputs": [],
   "source": [
    "def GN(G):\n",
    "    modularities = []\n",
    "    communities = []\n",
    "    _iter = 0\n",
    "    \n",
    "    _G = deepcopy(G)\n",
    "    \n",
    "    while G.number_of_edges() > 1:\n",
    "        _iter += 1\n",
    "        \n",
    "        comp = nx.number_connected_components(G)\n",
    "        n_comp = comp\n",
    "        \n",
    "#         while n_comp <= comp:\n",
    "        _betweeness = betweeness(G)\n",
    "        e = max(_betweeness, key=_betweeness.get)\n",
    "        G.remove_edge(*e)\n",
    "        n_comp = nx.number_connected_components(G)\n",
    "        \n",
    "#         if G.number_of_edges() > 1:\n",
    "        m = modularity(_G, G)\n",
    "        modularities.append(m)\n",
    "        c = nx.number_connected_components(G)\n",
    "        communities.append(c)\n",
    "        \n",
    "        if _iter % 100 == 0:\n",
    "            print(\"Iter %d: Modularity %f, Communities %d\" % (_iter, m, c))\n",
    "            \n",
    "    return modularities, communities"
   ]
  },
  {
   "cell_type": "code",
   "execution_count": 7,
   "metadata": {},
   "outputs": [
    {
     "name": "stdout",
     "output_type": "stream",
     "text": [
      "Iter 100: Modularity 0.400607, Communities 57\n",
      "Iter 200: Modularity 0.382468, Communities 79\n",
      "Iter 300: Modularity 0.365249, Communities 97\n",
      "Iter 400: Modularity 0.345819, Communities 115\n",
      "Iter 500: Modularity 0.326760, Communities 130\n",
      "Iter 600: Modularity 0.311353, Communities 141\n",
      "Iter 700: Modularity 0.290269, Communities 153\n",
      "Iter 800: Modularity 0.269153, Communities 167\n",
      "Iter 900: Modularity 0.253968, Communities 176\n",
      "Iter 1000: Modularity 0.232608, Communities 185\n",
      "Iter 1100: Modularity 0.215984, Communities 194\n",
      "Iter 1200: Modularity 0.201442, Communities 202\n",
      "Iter 1300: Modularity 0.184309, Communities 211\n",
      "Iter 1400: Modularity 0.166505, Communities 222\n",
      "Iter 1500: Modularity 0.142844, Communities 231\n",
      "Iter 1600: Modularity 0.122764, Communities 241\n",
      "Iter 1700: Modularity 0.101128, Communities 252\n",
      "Iter 1800: Modularity 0.077788, Communities 261\n",
      "Iter 1900: Modularity 0.049987, Communities 274\n",
      "Iter 2000: Modularity 0.026066, Communities 285\n"
     ]
    }
   ],
   "source": [
    "G = nx.Graph()\n",
    "G.add_edges_from(edges)\n",
    "mods, coms = GN(G)\n"
   ]
  },
  {
   "cell_type": "code",
   "execution_count": 8,
   "metadata": {},
   "outputs": [
    {
     "data": {
      "text/plain": [
       "[<matplotlib.lines.Line2D at 0x7f77e8a8fcf8>]"
      ]
     },
     "execution_count": 8,
     "metadata": {},
     "output_type": "execute_result"
    },
    {
     "data": {
      "image/png": "[encoded data removed]",
      "text/plain": [
       "<matplotlib.figure.Figure at 0x7f77e8937198>"
      ]
     },
     "metadata": {},
     "output_type": "display_data"
    }
   ],
   "source": [
    "plt.plot(mods)"
   ]
  },
  {
   "cell_type": "code",
   "execution_count": null,
   "metadata": {},
   "outputs": [],
   "source": []
  }
 ],
 "metadata": {
  "kernelspec": {
   "display_name": "Python 3",
   "language": "python",
   "name": "python3"
  },
  "language_info": {
   "codemirror_mode": {
    "name": "ipython",
    "version": 3
   },
   "file_extension": ".py",
   "mimetype": "text/x-python",
   "name": "python",
   "nbconvert_exporter": "python",
   "pygments_lexer": "ipython3",
   "version": "3.6.4"
  }
 },
 "nbformat": 4,
 "nbformat_minor": 2
}
