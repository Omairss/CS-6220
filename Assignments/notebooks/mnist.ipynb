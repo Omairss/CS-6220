{
 "cells": [
  {
   "cell_type": "code",
   "execution_count": 23,
   "metadata": {
    "collapsed": true
   },
   "outputs": [],
   "source": [
    "import numpy as np\n",
    "import pandas as pd\n",
    "from sklearn.metrics.pairwise import cosine_similarity, euclidean_distances\n",
    "from mnist import MNIST\n",
    "from tqdm import tqdm"
   ]
  },
  {
   "cell_type": "code",
   "execution_count": 2,
   "metadata": {
    "collapsed": true
   },
   "outputs": [],
   "source": [
    "mnist_loader = MNIST(\"../data/mnist/\")\n",
    "mnist_loader.gz = True"
   ]
  },
  {
   "cell_type": "code",
   "execution_count": 6,
   "metadata": {
    "collapsed": true
   },
   "outputs": [],
   "source": [
    "images, labels = mnist_loader.load_training()\n",
    "timages, tlabels = mnist_loader.load_testing()"
   ]
  },
  {
   "cell_type": "code",
   "execution_count": 8,
   "metadata": {
    "collapsed": true
   },
   "outputs": [],
   "source": [
    "images = np.array(images)\n",
    "labels = np.array(labels)\n",
    "timages = np.array(timages)\n",
    "tlabels = np.array(tlabels)"
   ]
  },
  {
   "cell_type": "code",
   "execution_count": 9,
   "metadata": {},
   "outputs": [
    {
     "data": {
      "text/plain": [
       "((60000, 784), (10000, 784))"
      ]
     },
     "execution_count": 9,
     "metadata": {},
     "output_type": "execute_result"
    }
   ],
   "source": [
    "images.shape, timages.shape"
   ]
  },
  {
   "cell_type": "markdown",
   "metadata": {},
   "source": [
    "## cos sim"
   ]
  },
  {
   "cell_type": "code",
   "execution_count": 10,
   "metadata": {
    "collapsed": true
   },
   "outputs": [],
   "source": [
    "n_rows = images.shape[0]\n",
    "t_n_rows = timages.shape[0]\n",
    "batch_size = 2500\n",
    "path = '../data/mnist/cos_sim.memmap'"
   ]
  },
  {
   "cell_type": "code",
   "execution_count": 12,
   "metadata": {
    "collapsed": true
   },
   "outputs": [],
   "source": [
    "fp = np.memmap(path, dtype='float32', mode='w+', shape=(n_rows + t_n_rows, n_rows))"
   ]
  },
  {
   "cell_type": "code",
   "execution_count": 13,
   "metadata": {},
   "outputs": [
    {
     "name": "stderr",
     "output_type": "stream",
     "text": [
      "100%|██████████| 24/24 [04:11<00:00, 10.46s/it]\n"
     ]
    }
   ],
   "source": [
    "for batch_index in tqdm(range(n_rows // batch_size)):\n",
    "    start = batch_size * batch_index\n",
    "    end = batch_size * (batch_index + 1)\n",
    "    fp[start:end, :] = cosine_similarity(X=images[start:end], Y=images)"
   ]
  },
  {
   "cell_type": "code",
   "execution_count": 15,
   "metadata": {},
   "outputs": [
    {
     "name": "stderr",
     "output_type": "stream",
     "text": [
      "100%|██████████| 4/4 [00:35<00:00,  8.93s/it]\n"
     ]
    }
   ],
   "source": [
    "for batch_index in tqdm(range(t_n_rows // batch_size)):\n",
    "    start = batch_size * batch_index\n",
    "    end = batch_size * (batch_index + 1)\n",
    "    fp_start = start + n_rows\n",
    "    fp_end = end + n_rows\n",
    "    fp[fp_start:fp_end, :] = cosine_similarity(X=timages[start:end], Y=images)"
   ]
  },
  {
   "cell_type": "code",
   "execution_count": 21,
   "metadata": {
    "collapsed": true
   },
   "outputs": [],
   "source": [
    "del fp"
   ]
  },
  {
   "cell_type": "markdown",
   "metadata": {},
   "source": [
    "## euc dist"
   ]
  },
  {
   "cell_type": "code",
   "execution_count": 22,
   "metadata": {
    "collapsed": true
   },
   "outputs": [],
   "source": [
    "path = '../data/mnist/eud_dist.memmap'\n",
    "fp = np.memmap(path, dtype='float32', mode='w+', shape=(n_rows + t_n_rows, n_rows))"
   ]
  },
  {
   "cell_type": "code",
   "execution_count": 24,
   "metadata": {},
   "outputs": [
    {
     "name": "stderr",
     "output_type": "stream",
     "text": [
      "100%|██████████| 24/24 [06:59<00:00, 17.50s/it]\n"
     ]
    }
   ],
   "source": [
    "for batch_index in tqdm(range(n_rows // batch_size)):\n",
    "    start = batch_size * batch_index\n",
    "    end = batch_size * (batch_index + 1)\n",
    "    fp[start:end, :] = euclidean_distances(X=images[start:end], Y=images)"
   ]
  },
  {
   "cell_type": "code",
   "execution_count": 25,
   "metadata": {},
   "outputs": [
    {
     "name": "stderr",
     "output_type": "stream",
     "text": [
      "100%|██████████| 4/4 [01:19<00:00, 19.95s/it]\n"
     ]
    }
   ],
   "source": [
    "for batch_index in tqdm(range(t_n_rows // batch_size)):\n",
    "    start = batch_size * batch_index\n",
    "    end = batch_size * (batch_index + 1)\n",
    "    fp_start = start + n_rows\n",
    "    fp_end = end + n_rows\n",
    "    fp[fp_start:fp_end, :] = euclidean_distances(X=timages[start:end], Y=images)"
   ]
  },
  {
   "cell_type": "code",
   "execution_count": 26,
   "metadata": {
    "collapsed": true
   },
   "outputs": [],
   "source": [
    "del fp"
   ]
  }
 ],
 "metadata": {
  "kernelspec": {
   "display_name": "Python 3",
   "language": "python",
   "name": "python3"
  },
  "language_info": {
   "codemirror_mode": {
    "name": "ipython",
    "version": 3
   },
   "file_extension": ".py",
   "mimetype": "text/x-python",
   "name": "python",
   "nbconvert_exporter": "python",
   "pygments_lexer": "ipython3",
   "version": "3.6.3"
  }
 },
 "nbformat": 4,
 "nbformat_minor": 2
}
