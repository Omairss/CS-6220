{
 "cells": [
  {
   "cell_type": "code",
   "execution_count": 2,
   "metadata": {},
   "outputs": [],
   "source": [
    "from collections import Counter\n",
    "import re\n",
    "from sklearn.datasets import fetch_20newsgroups\n",
    "import numpy as np\n",
    "from nltk.tokenize import sent_tokenize, word_tokenize\n",
    "from scipy.stats import entropy as kl_div\n",
    "from math import log\n",
    "import requests\n",
    "from tqdm import tqdm"
   ]
  },
  {
   "cell_type": "code",
   "execution_count": 5,
   "metadata": {},
   "outputs": [
    {
     "name": "stdout",
     "output_type": "stream",
     "text": [
      "b'{\\n  \"name\" : \"bO9m5sh\",\\n  \"cluster_name\" : \"elasticsearch\",\\n  \"cluster_uuid\" : \"igPwZ1szS9K6CJ0OeeWr7Q\",\\n  \"version\" : {\\n    \"number\" : \"6.2.1\",\\n    \"build_hash\" : \"7299dc3\",\\n    \"build_date\" : \"2018-02-07T19:34:26.990113Z\",\\n    \"build_snapshot\" : false,\\n    \"lucene_version\" : \"7.2.1\",\\n    \"minimum_wire_compatibility_version\" : \"5.6.0\",\\n    \"minimum_index_compatibility_version\" : \"5.0.0\"\\n  },\\n  \"tagline\" : \"You Know, for Search\"\\n}\\n'\n"
     ]
    }
   ],
   "source": [
    "from elasticsearch import Elasticsearch\n",
    "es = Elasticsearch([{'host': '172.18.0.3', 'port': 9200}])\n",
    "res = requests.get('http://172.18.0.3:9200')\n",
    "print(res.content)"
   ]
  },
  {
   "cell_type": "code",
   "execution_count": 4,
   "metadata": {},
   "outputs": [],
   "source": [
    "news_train = fetch_20newsgroups(\n",
    "    data_home='../data/20newsgroups/',\n",
    "    subset='train', remove=('headers', 'footers', 'quotes'),\n",
    "    shuffle=True, random_state=666)"
   ]
  },
  {
   "cell_type": "code",
   "execution_count": 12,
   "metadata": {},
   "outputs": [
    {
     "name": "stderr",
     "output_type": "stream",
     "text": [
      "11314it [01:28, 127.29it/s]\n"
     ]
    }
   ],
   "source": [
    "for index, data in tqdm(enumerate(news_train.data)):\n",
    "    doc = {'doc_id': index,\n",
    "           'doc_text': data}\n",
    "    try:\n",
    "        es.index(index='20ng', doc_type='doc', body=doc)\n",
    "    except RequestError:\n",
    "        pass"
   ]
  },
  {
   "cell_type": "code",
   "execution_count": 17,
   "metadata": {},
   "outputs": [
    {
     "name": "stdout",
     "output_type": "stream",
     "text": [
      "no file for ap900928-0054.txt\n",
      "no file for ap890325-0143.txt\n",
      "no file for ap900322-0200_system.txt\n"
     ]
    },
    {
     "name": "stderr",
     "output_type": "stream",
     "text": [
      "100%|██████████| 301/301 [00:01<00:00, 209.13it/s]\n"
     ]
    }
   ],
   "source": [
    "import os\n",
    "from bs4 import BeautifulSoup\n",
    "\n",
    "path = '../../data/DUC2001/'\n",
    "gold_path = path + \"Summaries\"\n",
    "docs = {}\n",
    "\n",
    "doc_files = os.listdir(path)\n",
    "gold_files = os.listdir(gold_path)\n",
    "\n",
    "for gold_file in gold_files:\n",
    "    file_name =  gold_file.split('.')[0].upper()\n",
    "    if file_name not in doc_files:\n",
    "        print('no file for %s' % gold_file)\n",
    "        continue\n",
    "\n",
    "    sum_path = gold_path + '/' + gold_file\n",
    "\n",
    "    with open(sum_path) as sum_file:                \n",
    "        summary, doc = sum_file.read().strip().split('Introduction:')\n",
    "        summary = summary.split('Abstract:')[1]\n",
    "\n",
    "        docs[file_name] = [doc.strip(), summary.strip()]\n",
    "\n",
    "for key, val in tqdm(docs.items()):\n",
    "    es_inp = {\n",
    "        'doc_id' : key,\n",
    "        'doc_text' : val[0],\n",
    "        'gold_summary' : val[1]\n",
    "    }\n",
    "    es.index(index='duc', doc_type='doc', body=es_inp)\n"
   ]
  },
  {
   "cell_type": "code",
   "execution_count": null,
   "metadata": {},
   "outputs": [],
   "source": []
  }
 ],
 "metadata": {
  "kernelspec": {
   "display_name": "Python 3",
   "language": "python",
   "name": "python3"
  },
  "language_info": {
   "codemirror_mode": {
    "name": "ipython",
    "version": 3
   },
   "file_extension": ".py",
   "mimetype": "text/x-python",
   "name": "python",
   "nbconvert_exporter": "python",
   "pygments_lexer": "ipython3",
   "version": "3.6.4"
  }
 },
 "nbformat": 4,
 "nbformat_minor": 2
}
