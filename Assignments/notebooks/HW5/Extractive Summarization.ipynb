{
 "cells": [
  {
   "cell_type": "code",
   "execution_count": 4,
   "metadata": {},
   "outputs": [
    {
     "name": "stdout",
     "output_type": "stream",
     "text": [
      "[nltk_data] Downloading package punkt to /root/nltk_data...\n",
      "[nltk_data]   Package punkt is already up-to-date!\n"
     ]
    },
    {
     "data": {
      "text/plain": [
       "True"
      ]
     },
     "execution_count": 4,
     "metadata": {},
     "output_type": "execute_result"
    }
   ],
   "source": [
    "from collections import Counter\n",
    "import re\n",
    "\n",
    "import numpy as np\n",
    "from nltk.tokenize import sent_tokenize, word_tokenize\n",
    "from scipy.stats import entropy as kl_div\n",
    "from math import log\n",
    "\n",
    "from tqdm import tqdm\n",
    "from elasticsearch import Elasticsearch\n",
    "\n",
    "import nltk\n",
    "nltk.download('punkt')"
   ]
  },
  {
   "cell_type": "code",
   "execution_count": 12,
   "metadata": {},
   "outputs": [],
   "source": [
    "es = Elasticsearch([{'host': '172.18.0.3', 'port': 9200}])"
   ]
  },
  {
   "cell_type": "code",
   "execution_count": 13,
   "metadata": {},
   "outputs": [],
   "source": [
    "_text = {\n",
    "    'size' : 301,\n",
    "    'query': {\n",
    "        'match_all' : {}\n",
    "    }\n",
    "}\n",
    "\n",
    "data = es.search(index='duc', doc_type='doc', body=_text)['hits']['hits']\n",
    "data = [d['_source'] for d in data]"
   ]
  },
  {
   "cell_type": "code",
   "execution_count": 14,
   "metadata": {},
   "outputs": [],
   "source": [
    "_topics = {\n",
    "    'size' : 10,\n",
    "    'query': {\n",
    "        'match_all' : {}\n",
    "    }\n",
    "}\n",
    "topics = es.search(index='topicsduc', doc_type='topic', body=_topics)['hits']['hits']\n",
    "topics = [t['_source'] for t in topics]"
   ]
  },
  {
   "cell_type": "code",
   "execution_count": 75,
   "metadata": {},
   "outputs": [
    {
     "data": {
      "text/plain": [
       "dict_keys(['doc_id', 'doc_text', 'doc_topics', 'doc_topics_pd', 'gold_summary'])"
      ]
     },
     "execution_count": 75,
     "metadata": {},
     "output_type": "execute_result"
    }
   ],
   "source": [
    "es.search(index='duc', doc_type='doc', body=_text)['hits']['hits'][0]['_source'].keys()"
   ]
  },
  {
   "cell_type": "code",
   "execution_count": 17,
   "metadata": {},
   "outputs": [],
   "source": [
    "regex = re.compile(r\"(\\W)\")\n",
    "wc = lambda text: Counter([t for t in re.split(r\"(\\W)\", text) if t and t != ' ' and t != '\\n'])\n",
    "pd = lambda wc: {k: v/sum(wc.values()) for k, v in wc.items()}"
   ]
  },
  {
   "cell_type": "code",
   "execution_count": 15,
   "metadata": {},
   "outputs": [],
   "source": [
    "def klsum(document, summary, L):\n",
    "    doc_sent = sent_tokenize(document)\n",
    "    doc_wc = wc(document)\n",
    "    doc_pd = pd(doc_wc)\n",
    "    px = [p for p in doc_pd.values()]\n",
    "    \n",
    "    while len(sent_tokenize(summary)) < L:\n",
    "        sentences = sent_tokenize(document)\n",
    "        \n",
    "        _min, _min_id = 999, -1\n",
    "        for idx, sent in enumerate(sentences):\n",
    "            new_sum = summary + sent\n",
    "            new_pd = pd(wc(new_sum))\n",
    "            qx = [new_pd[k] if k in new_pd else 0.001 for k in doc_pd.keys()]\n",
    "            kl = kl_div(px, qx)\n",
    "            if kl < _min:\n",
    "                _min, _min_id = kl, idx\n",
    "        \n",
    "        summary += \"\\n\" + sentences[_min_id]\n",
    "        document = \" \".join(sentences[:_min_id] + sentences[_min_id+1:])\n",
    "    \n",
    "    return summary.strip()"
   ]
  },
  {
   "cell_type": "code",
   "execution_count": 25,
   "metadata": {
    "scrolled": true
   },
   "outputs": [
    {
     "data": {
      "text/plain": [
       "['THE 74-year-old man said it was \"like needles or nails being stuck in\" when\\npolice handcuffed him behind his back as he lay face down.',\n",
       " 'Then the police\\nlifted him by his arms and dragged him from the scene.',\n",
       " 'Retired Roman\\nCatholic Bishop George Lynch of New York was describing his treatment by West\\nHartford, Conn., police during a 1989 anti-abortion demonstration.',\n",
       " 'In mid-June, a lawsuit against the Los Angeles Police Department was\\nsettled when police agreed to stop using a martial-arts weapon, nunchakus,\\nwhile arresting anti-abortion advocates.',\n",
       " 'Hundreds have charged that police\\nin more than 50 cities have used excessive force in removing demonstrators\\nintent on closing down abortion facilities.',\n",
       " 'The demonstrators, most associated\\nwith Operation Rescue, have charged and testified that police tactics used\\nduring the past 2 1/2 years in cities such as Denver, Atlanta, Pittsburgh and\\nLos Angeles have resulted in serious injury and led to sexual abuse against\\nwomen who have been arrested.',\n",
       " 'Operation Rescue, which draws participants\\nlargely from conservative Catholic and Protestant circles, is a national\\nmovement that organizes demonstrations at abortion facilities.',\n",
       " 'It is the\\npractice of the protesters to go limp when ordered to move but to otherwise\\noffer no resistance to police.',\n",
       " 'The persistent complaints and numerous\\nsuits against police by Operation Rescue have taken on a new significance in\\nrecent months in the wake of the Los Angeles police beating of motorist Rodney\\nKing.',\n",
       " 'The images of Los Angeles police swinging nightsticks at King as he\\nlay on the ground, played repeatedly on national news programs, were burned\\ninto the national conscience and led to widespread calls for investigation of\\npolice brutality.',\n",
       " 'But government agencies, the press and civil\\nlibertarians have reacted quite differently to Operation Rescue videos showing\\napparent police brutality and to reports of police abuse of hundreds of the\\nactivists across the country.',\n",
       " \"A videotape of an Operation Rescue\\ndemonstration shows a man's arm apparently snapping under the pressure of\\nbeing lifted in a manner similar to that used on Lynch.\",\n",
       " 'Other scenes show\\npolice apparently placing fingers into the nostrils of one demonstrator and\\ngrabbing the breast of a female protester to force compliance.',\n",
       " 'The\\nsettlement over police use of nunchakus in Los Angeles, like the videos and\\nphotographs showing police using pain compliance techniques on Rescue\\nparticipants, received little attention from the public, civil rights groups\\nor the press.',\n",
       " 'Some critics say the lack of attention is a sign of a double\\nstandard.',\n",
       " 'Police, including Assistant Chief Craig Carrucci of West\\nHartford, deny the claims of brutality.',\n",
       " 'The FBI investigated complaints of\\nmisconduct by members of his department, he said, and \"every single case was\\nclosed.\"',\n",
       " 'He called pain compliance \"a valid tool\" used \"in direct\\nproportion to the amount of resistance.\"',\n",
       " 'Even Gandhi and Martin Luther King\\nJr., when arrested, cooperated with police and the courts, he said.',\n",
       " \"Shortly after Rodney King's beating, a news program on ABC illustrating police\\nbrutality showed a still photo of police using a martial-arts weapon against a\\nperson being arrested, but there was no mention that the episode involved\\nOperation Rescue.\",\n",
       " 'Similarly, the CBS Evening News reported March 27 \"on\\nvarious aspects of police brutality\" but did not include examples involving\\nanti-abortion activists, a producer said.',\n",
       " '\"It (police abuse) has not\\nattracted much attention because a lot of people are not sympathetic to\\nOperation Rescue,\" said Dr. James Fyfe, a professor of justice at American\\nUniversity in Washington, D.C.\\nPolice may also have a predisposition to\\nuse excessive force against the anti-abortion activists, said Fyfe, a former\\nNew York City policeman.',\n",
       " 'Their tactics -- going limp and in some cases\\nchaining themselves to buildings -- are \"a little more than police are used to\\ndealing with.\"',\n",
       " 'Dr. Philip Wogaman, professor of Christian social ethics at\\nWesley Theological Seminary in Washington, D.C.believes the comparison with\\nother kinds of protests breaks down at several points.',\n",
       " 'For instance, he said,\\ncivil rights demonstrators normally were picketing to assert their right to\\neat at a lunch counter or ride on a bus, not closing facilities to deny the\\nrights of others.',\n",
       " 'As early as 1989, soon after Operation Rescue began\\nwidespread sit-ins to disrupt abortion facilities, William B. Allen, then\\nchairman of the U.S. Civil Rights Commission, sounded an alarm.',\n",
       " '\"I am\\nconcerned that anti-abortion protesters are receiving selective prosecution\\nand selectively harsh treatment, unlike that received by other demonstrators\\nfor other causes,\" said Allen, who generally opposes abortion.',\n",
       " \"Colleen\\nO'Connor, the American Civil Liberties Union's national public education\\ndirector, and Carol Sobel, the ACLU's senior staff counsel in Los Angeles,\\nsaid they agree that police have abused Operation Rescue participants.\",\n",
       " 'The\\nACLU is supporting Operation Rescue in some of those situations, they said.',\n",
       " 'But the civil liberties group is clearly caught between conflicting rights.',\n",
       " \"The ACLU may support some of Operation Rescue's claims of police brutality,\\nbut Sobel said it also has won a $110,000 judgment in a case in which the ACLU\\nhad obtained an injunction against the anti-abortion group.\",\n",
       " 'The Civil\\nRights Commission in 1989, under pressure from some members of Congress,\\ndecided against an investigation of alleged police brutality against\\nanti-abortion activists and decided not to ask the Justice Department to\\ninvestigate.',\n",
       " 'A commission spokeswoman said its legal mandate prohibits\\ndealing with abortion issues.',\n",
       " \"Critics of the commission's decision not to\\ninvestigate say the issue was, and is, police brutality, not abortion.\",\n",
       " '\\x1a']"
      ]
     },
     "execution_count": 25,
     "metadata": {},
     "output_type": "execute_result"
    }
   ],
   "source": [
    "sent_tokenize(data[0]['doc_text'])"
   ]
  },
  {
   "cell_type": "code",
   "execution_count": 18,
   "metadata": {
    "scrolled": true
   },
   "outputs": [],
   "source": [
    "kl_summaries = {}\n",
    "for d in data:\n",
    "    kl_summaries[d['doc_id']] = klsum(d['doc_text'], '', 1)"
   ]
  },
  {
   "cell_type": "code",
   "execution_count": 19,
   "metadata": {},
   "outputs": [
    {
     "name": "stderr",
     "output_type": "stream",
     "text": [
      "100%|██████████| 301/301 [00:09<00:00, 32.24it/s]\n"
     ]
    }
   ],
   "source": [
    "def ldasum(data, summary, topics, L):\n",
    "    doc = data['doc_text']\n",
    "    doc_topics = [int(t.strip()) for t in data['doc_topics'].split(',')]\n",
    "    doc_topics_pd = [float(t.strip()) for t in data['doc_topics_pd'].split(',')]\n",
    "    \n",
    "    while len(sent_tokenize(summary)) < L:\n",
    "        sentences = sent_tokenize(doc)\n",
    "        score = [0] * len(sentences)\n",
    "        for idx, topic in enumerate(topics):\n",
    "            if topic['topic_id'] in doc_topics:\n",
    "                for sidx, sent in enumerate(sentences):\n",
    "                    for word in word_tokenize(sent):\n",
    "                        if word in topic['top_words']:\n",
    "                            score[sidx] += topic['word_prob'][topic['top_words'].index(word)]\n",
    "        \n",
    "        best = np.argmax(score)\n",
    "        summary += ' \\n ' + sentences[best]\n",
    "        doc = \" \".join(sentences[:best] + sentences[best+1:])\n",
    "        \n",
    "    return summary.strip()\n",
    "\n",
    "lda_summaries = {}\n",
    "for d in tqdm(data):\n",
    "    lda_summaries[d['doc_id']] = ldasum(d, '', topics, 1)"
   ]
  },
  {
   "cell_type": "markdown",
   "metadata": {},
   "source": [
    "## Upload to ES"
   ]
  },
  {
   "cell_type": "code",
   "execution_count": 57,
   "metadata": {},
   "outputs": [
    {
     "name": "stderr",
     "output_type": "stream",
     "text": [
      "100%|██████████| 301/301 [00:02<00:00, 116.74it/s]\n"
     ]
    }
   ],
   "source": [
    "for d in tqdm(data):\n",
    "    _id = d['doc_id']\n",
    "    d['kl_summary'] = kl_summaries[_id]\n",
    "    d['lda_summary'] = lda_summaries[_id]\n",
    "    \n",
    "    es.index(index='ducsummary', doc_type='doc', body=d)"
   ]
  },
  {
   "cell_type": "code",
   "execution_count": 20,
   "metadata": {},
   "outputs": [],
   "source": [
    "from sklearn.decomposition import LatentDirichletAllocation\n",
    "from sklearn.feature_extraction.text import CountVectorizer"
   ]
  },
  {
   "cell_type": "code",
   "execution_count": 24,
   "metadata": {
    "scrolled": true
   },
   "outputs": [
    {
     "data": {
      "text/plain": [
       "LatentDirichletAllocation(batch_size=128, doc_topic_prior=None,\n",
       "             evaluate_every=-1, learning_decay=0.7,\n",
       "             learning_method='online', learning_offset=10.0,\n",
       "             max_doc_update_iter=100, max_iter=10, mean_change_tol=0.001,\n",
       "             n_components=10, n_jobs=-1, n_topics=None, perp_tol=0.1,\n",
       "             random_state=666, topic_word_prior=None,\n",
       "             total_samples=1000000.0, verbose=0)"
      ]
     },
     "execution_count": 24,
     "metadata": {},
     "output_type": "execute_result"
    }
   ],
   "source": [
    "duc_data = [row['doc_text'] for row in data] \n",
    "vectorizer = CountVectorizer(stop_words='english', max_df=0.95, min_df=2, max_features=1000)\n",
    "features = vectorizer.fit_transform(duc_data)\n",
    "model = LatentDirichletAllocation(n_components=10, random_state=666, learning_method='online', n_jobs=-1)\n",
    "model.fit(features)"
   ]
  },
  {
   "cell_type": "markdown",
   "metadata": {},
   "source": [
    "## Summarization"
   ]
  },
  {
   "cell_type": "code",
   "execution_count": 21,
   "metadata": {},
   "outputs": [],
   "source": [
    "def topicsum(document, summary, L):\n",
    "    px = model.transform(vectorizer.transform([document]))[0]\n",
    "    \n",
    "    while len(sent_tokenize(summary)) < L:\n",
    "        sentences = sent_tokenize(document)\n",
    "        \n",
    "        _min, _min_id = 999, -1\n",
    "        for idx, sent in enumerate(sentences):\n",
    "            new_sum = summary + sent\n",
    "            qx = model.transform(vectorizer.transform([new_sum]))[0]\n",
    "            kl = kl_div(px, qx)\n",
    "            if kl < _min:\n",
    "                _min, _min_id = kl, idx\n",
    "        \n",
    "        summary += \"\\n\" + sentences[_min_id]\n",
    "        document = \" \".join(sentences[:_min_id] + sentences[_min_id+1:])\n",
    "    \n",
    "    return summary.strip()"
   ]
  },
  {
   "cell_type": "code",
   "execution_count": 22,
   "metadata": {},
   "outputs": [
    {
     "data": {
      "text/plain": [
       "\"A U.S. Air Force F-111\\nfighter-bomber crashed today in Saudi Arabia, killing both crew\\nmembers, U.S. military officials reported.\\n   It was the fourth American aircraft to crash in three days among\\nthose deployed to this kingdom for Operation Desert Shield.\\n   Eight Marines are missing in the crash of two helicopters in the\\nnorthern Arabian Sea on Monday. An Air Force F-4 reconnaissance jet\\nalso went down that day, killing both crew members.\\n   Lt. Cmdr. J.D. van Sickle, a military spokesman, said the F-111\\ncrashed in the ``southern Arabian peninsula'' while on a training\\nmission and that the incident was under investigation.\\n   The names of the flyers were withheld pending notification of\\nnext of kin.\\n   The aircraft was attached the 48th Tactical Fighter Wing based\\nat RAF Lakenheath Air Base in Britain. The wing was sent to Turkey\\nas U.S. forces massed in the region in response to Iraq's Aug. 2\\ntakeover of Kuwait.\\n   Today's crash brought to at least nine the number of Americans\\nkilled in the Persian Gulf region since Operation Desert Shield\\nbegan.\\n   The eight Marines aboard the two UH-1 Huey helicopters that\\nvanished Monday are still officially listed as missing.\\n   In addition to those killed in Saudi Arabia, 13 other Air Force\\npersonnel were killed in a crash of a C-5 jet cargo plane in\\nGermany. That aircraft was ferrying supplies and equipment to the\\nSaudi peninsula.\\n   Officials said the F-111 crashed at dawn.\\n   The aircraft was an F-model, the latest version of the\\n23-year-old swing-wing jet that first saw action in Vietnam.\\n   The F-model has more powerful engines, and state-of-the-art\\nequipment to operate against enemy targets at night. The plane can\\ncarry up to 12 tons of bombs and missiles and has a crew of two, a\\npilot and a weapons systems officer.\\n\\x1a\""
      ]
     },
     "execution_count": 22,
     "metadata": {},
     "output_type": "execute_result"
    }
   ],
   "source": [
    "data[0]['doc_text']"
   ]
  },
  {
   "cell_type": "code",
   "execution_count": 90,
   "metadata": {},
   "outputs": [
    {
     "name": "stdout",
     "output_type": "stream",
     "text": [
      "In addition to those killed in Saudi Arabia, 13 other Air Force\n",
      "personnel were killed in a crash of a C-5 jet cargo plane in\n",
      "Germany.\n",
      "A U.S. Air Force F-111\n",
      "fighter-bomber crashed today in Saudi Arabia, killing both crew\n",
      "members, U.S. military officials reported.\n"
     ]
    }
   ],
   "source": [
    "#print(topicsum(docs['AP880217-0175'], '', 2))\n",
    "print(topicsum(data[0]['doc_text'], '', 2))"
   ]
  },
  {
   "cell_type": "code",
   "execution_count": 93,
   "metadata": {},
   "outputs": [
    {
     "data": {
      "text/plain": [
       "dict_keys(['doc_id', 'doc_text', 'doc_topics', 'doc_topics_pd', 'gold_summary'])"
      ]
     },
     "execution_count": 93,
     "metadata": {},
     "output_type": "execute_result"
    }
   ],
   "source": [
    "data[0].keys()"
   ]
  },
  {
   "cell_type": "code",
   "execution_count": 94,
   "metadata": {},
   "outputs": [
    {
     "data": {
      "text/plain": [
       "'0.7423522725775452, 0.24875628037352615, 0.0011118752154525915, 0.0011115325210887136, 0.0011114431054552103'"
      ]
     },
     "execution_count": 94,
     "metadata": {},
     "output_type": "execute_result"
    }
   ],
   "source": [
    "data[0]['doc_topics_pd']"
   ]
  },
  {
   "cell_type": "code",
   "execution_count": 95,
   "metadata": {},
   "outputs": [
    {
     "data": {
      "text/plain": [
       "'3, 1, 7, 2, 8'"
      ]
     },
     "execution_count": 95,
     "metadata": {},
     "output_type": "execute_result"
    }
   ],
   "source": [
    "data[0]['doc_topics']"
   ]
  },
  {
   "cell_type": "markdown",
   "metadata": {},
   "source": [
    "### Three different summaries"
   ]
  },
  {
   "cell_type": "code",
   "execution_count": 96,
   "metadata": {},
   "outputs": [
    {
     "data": {
      "text/plain": [
       "\"A United States Air Force F-111 fighter-bomber crashed at dawn today in Saudi Arabia. Both crew members were killed. The aircraft was assigned to the 48th Tactical Fighter Wing at Lakenheath in Britain, and was deployed to Saudi Arabia via Turkey as Operation Desert Shield progressed. The F-111 crash followed closely upon Monday's disappearance of two Marine Corps UH-1 Huey helicopters over the Arabian Sea, and the crash of an Air Force F-4 reconnaissance jet on the same day. Today's crash raises the number of Americans killed in Saudi Arabia to at least nine.\""
      ]
     },
     "execution_count": 96,
     "metadata": {},
     "output_type": "execute_result"
    }
   ],
   "source": [
    "data[0]['gold_summary']"
   ]
  },
  {
   "cell_type": "code",
   "execution_count": 97,
   "metadata": {},
   "outputs": [],
   "source": [
    "_text = {\n",
    "    'size' : 301,\n",
    "    'query': {\n",
    "        'match_all' : {}\n",
    "    }\n",
    "}\n",
    "\n",
    "data = es.search(index='ducsummary', doc_type='doc', body=_text)['hits']['hits']\n",
    "data = [d['_source'] for d in data]"
   ]
  },
  {
   "cell_type": "code",
   "execution_count": 101,
   "metadata": {},
   "outputs": [
    {
     "data": {
      "text/plain": [
       "'The aircraft was an F-model, the latest version of the\\n23-year-old swing-wing jet that first saw action in Vietnam.'"
      ]
     },
     "execution_count": 101,
     "metadata": {},
     "output_type": "execute_result"
    }
   ],
   "source": [
    "data[0]['kl_summary']"
   ]
  },
  {
   "cell_type": "code",
   "execution_count": 102,
   "metadata": {},
   "outputs": [
    {
     "data": {
      "text/plain": [
       "\"van Sickle, a military spokesman, said the F-111\\ncrashed in the ``southern Arabian peninsula'' while on a training\\nmission and that the incident was under investigation.\""
      ]
     },
     "execution_count": 102,
     "metadata": {},
     "output_type": "execute_result"
    }
   ],
   "source": [
    "data[0]['lda_summary']"
   ]
  },
  {
   "cell_type": "code",
   "execution_count": 1,
   "metadata": {},
   "outputs": [],
   "source": [
    "from rouge import Rouge"
   ]
  },
  {
   "cell_type": "code",
   "execution_count": 27,
   "metadata": {},
   "outputs": [],
   "source": [
    "def indexer(index, doc_type, body):\n",
    "    data = es.search(index=index, doc_type=doc_type, body=body)['hits']['hits']\n",
    "    data = [d['_source'] for d in data]\n",
    "    return data"
   ]
  },
  {
   "cell_type": "code",
   "execution_count": 28,
   "metadata": {},
   "outputs": [],
   "source": [
    "_text = {\n",
    "    'size' : 301,\n",
    "    'query': {\n",
    "        'match_all' : {}\n",
    "    }\n",
    "}\n",
    "duc_es = indexer('ducsummary', 'doc', _text)"
   ]
  },
  {
   "cell_type": "code",
   "execution_count": 30,
   "metadata": {},
   "outputs": [],
   "source": [
    "for d in duc_es:\n",
    "    if d['doc_id'] == 'AP880217-0175':\n",
    "        test = d['doc_text']\n",
    "        ref = d['gold_summary']\n",
    "        lda = d['lda_summary']\n",
    "        kl = d['kl_summary']"
   ]
  },
  {
   "cell_type": "code",
   "execution_count": 34,
   "metadata": {},
   "outputs": [],
   "source": [
    "hyp = topicsum(test, '', 2)"
   ]
  },
  {
   "cell_type": "code",
   "execution_count": 32,
   "metadata": {},
   "outputs": [],
   "source": [
    "rouge = Rouge()"
   ]
  },
  {
   "cell_type": "code",
   "execution_count": 35,
   "metadata": {},
   "outputs": [
    {
     "data": {
      "text/plain": [
       "0.14012738372996894"
      ]
     },
     "execution_count": 35,
     "metadata": {},
     "output_type": "execute_result"
    }
   ],
   "source": [
    "rouge.get_scores(hyp, ref)[0]['rouge-2']['f']\n"
   ]
  },
  {
   "cell_type": "code",
   "execution_count": 36,
   "metadata": {},
   "outputs": [
    {
     "data": {
      "text/plain": [
       "0.3053435073970049"
      ]
     },
     "execution_count": 36,
     "metadata": {},
     "output_type": "execute_result"
    }
   ],
   "source": [
    "rouge.get_scores(lda, ref)[0]['rouge-2']['f']\n"
   ]
  },
  {
   "cell_type": "code",
   "execution_count": 37,
   "metadata": {},
   "outputs": [
    {
     "data": {
      "text/plain": [
       "0.0312499960986333"
      ]
     },
     "execution_count": 37,
     "metadata": {},
     "output_type": "execute_result"
    }
   ],
   "source": [
    "rouge.get_scores(kl, ref)[0]['rouge-2']['f']\n"
   ]
  },
  {
   "cell_type": "code",
   "execution_count": null,
   "metadata": {},
   "outputs": [],
   "source": []
  }
 ],
 "metadata": {
  "kernelspec": {
   "display_name": "Python 3",
   "language": "python",
   "name": "python3"
  },
  "language_info": {
   "codemirror_mode": {
    "name": "ipython",
    "version": 3
   },
   "file_extension": ".py",
   "mimetype": "text/x-python",
   "name": "python",
   "nbconvert_exporter": "python",
   "pygments_lexer": "ipython3",
   "version": "3.6.4"
  }
 },
 "nbformat": 4,
 "nbformat_minor": 2
}
