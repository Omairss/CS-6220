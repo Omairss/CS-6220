{
 "cells": [
  {
   "cell_type": "code",
   "execution_count": 4,
   "metadata": {
    "collapsed": true
   },
   "outputs": [],
   "source": [
    "import re, csv, sys\n",
    "from mpl_toolkits.mplot3d import Axes3D\n",
    "import matplotlib.pyplot as plt\n",
    "from scipy.spatial import distance\n",
    "import numpy as np"
   ]
  },
  {
   "cell_type": "code",
   "execution_count": 5,
   "metadata": {
    "collapsed": true
   },
   "outputs": [],
   "source": [
    "\n",
    "\n",
    "class Cluster(object):\n",
    "    \n",
    "    def __init__(self,  name, dim):\n",
    "        self.name = name\n",
    "        self.dim = dim\n",
    "        self.points = []\n",
    "    \n",
    "    def add_point(self, point):\n",
    "        self.points.append(point)\n",
    "        \n",
    "    def get_points(self):\n",
    "        return self.points\n",
    "    \n",
    "    def erase(self):\n",
    "        self.points = []\n",
    "    \n",
    "    def get_X(self):\n",
    "        return [p[0] for p in self.points]\n",
    "    \n",
    "    def get_Y(self):\n",
    "        return [p[1] for p in self.points]\n",
    "\n",
    "    def get_Z(self):\n",
    "        if self.dim > 2:\n",
    "            return [p[2] for p in self.points]\n",
    "        return None\n",
    "    \n",
    "    def has(self, point):\n",
    "        return point in self.points\n",
    "            \n",
    "    def __str__(self):\n",
    "        return \"%s: %d points\" % (self.name, len(self.points))\n",
    "    "
   ]
  },
  {
   "cell_type": "code",
   "execution_count": 6,
   "metadata": {
    "collapsed": true
   },
   "outputs": [],
   "source": [
    "class DBScanner:\n",
    "    \n",
    "    def __init__(self, config):\n",
    "        self.eps = config['eps']\n",
    "        self.min_pts = config['min_pts']\n",
    "        self.dim = config['dim']\n",
    "        self.clusters = set()\n",
    "        self.cluster_count = 0\n",
    "        self.visited = []\n",
    "        self.color = ['b', 'g', 'r', 'c', 'm', 'y', 'k', 'w']\n",
    "    \n",
    "    def dbscan(self, data):\n",
    "        self.init_params()\n",
    "        self.data = data\n",
    "\n",
    "        ## Setting up the plot\n",
    "        fig = plt.figure()\n",
    "\n",
    "        axis_proj = 'rectilinear'\n",
    "        if self.dim > 2:\n",
    "            axis_proj = '%dd' % self.dim\n",
    "\n",
    "        ax = fig.add_subplot(111, projection = axis_proj)\n",
    "        \n",
    "        #default noise cluster\n",
    "        noise = Cluster('Noise', self.dim)\n",
    "        self.clusters.add(noise)\n",
    "\n",
    "        for point in data:\n",
    "            if point not in self.visited:\n",
    "                self.visited.append(point)\n",
    "                neighbour_pts = self.region_query(point)\n",
    "                if len(neighbour_pts) < self.min_pts:\n",
    "                    noise.add_point(point)\n",
    "                else:\n",
    "                    name = 'cluster-%d' % self.cluster_count\n",
    "                    new_cluster = Cluster(name, self.dim)\n",
    "\n",
    "                    self.cluster_count += 1\n",
    "                    self.expand_cluster(new_cluster, point, neighbour_pts)\n",
    "                    \n",
    "                    if self.dim == 2:\n",
    "                        ax.scatter(new_cluster.get_X(), new_cluster.get_Y(), c = self.color[self.cluster_count % len(self.color)],\n",
    "                        marker = 'o', label = name)\n",
    "                    elif self.dim == 3:\n",
    "                        ax.scatter(new_cluster.get_X(), new_cluster.get_Y(), new_cluster.get_Z(), marker = 'o', \n",
    "                        c = self.color[self.cluster_count % len(self.color)], label = name)\n",
    "\n",
    "                    ax.hold(True)\n",
    "        \n",
    "        if len(noise.get_points()) != 0:\n",
    "            if self.dim > 2:\n",
    "                ax.scatter(noise.get_X(), noise.get_Y(), noise.get_Z(), marker = 'x', label = noise.name)\n",
    "            else:\n",
    "                ax.scatter(noise.get_X(), noise.get_Y(), marker = 'x', label = noise.name)\n",
    "        \n",
    "        print (\"Number of clusters found: %d\" % self.cluster_count)\n",
    "        \n",
    "        ax.hold(False)\n",
    "        ax.legend(loc='lower left')\n",
    "        ax.grid(True)\n",
    "        plt.title(r'DBSCAN Clustering', fontsize=18)\n",
    "        plt.show()\n",
    "                    \n",
    "\n",
    "    def expand_cluster(self, cluster, point, neighbour_pts):\n",
    "        cluster.add_point(point)\n",
    "        for p in neighbour_pts:\n",
    "            if p not in self.visited:\n",
    "                self.visited.append(p)\n",
    "                np = self.region_query(p)\n",
    "                if len(np) >= self.min_pts:\n",
    "                    for n in np:\n",
    "                        if n not in neighbour_pts:\n",
    "                            neighbour_pts.append(n)\n",
    "                    \n",
    "                for other_cluster in self.clusters:\n",
    "                    if not other_cluster.has(p):\n",
    "                        if not cluster.has(p):\n",
    "                            cluster.add_point(p)\n",
    "\n",
    "                if self.cluster_count == 0:\n",
    "                    if not cluster.has(p):\n",
    "                        cluster.add_point(p)\n",
    "                        \n",
    "        self.clusters.add(cluster)\n",
    "                    \n",
    "    \n",
    "    def get_distance(self, from_point, to_point):\n",
    "        p1 = [from_point[k] for k in range(self.dim)]\n",
    "        p2 = [to_point[k] for k in range(self.dim)]\n",
    "        return distance.euclidean(p1, p2)\n",
    "\n",
    "                     \n",
    "    def region_query(self, point):\n",
    "        result = []\n",
    "        for d_point in self.data:\n",
    "            if d_point != point:\n",
    "                if self.get_distance(d_point, point) <= self.eps:\n",
    "                    result.append(d_point)\n",
    "        return result\n",
    "\n",
    "    def init_params(self):\n",
    "        self.clusters = set()\n",
    "        self.cluster_count = 0\n",
    "        self.visited = []\n"
   ]
  },
  {
   "cell_type": "code",
   "execution_count": null,
   "metadata": {},
   "outputs": [
    {
     "name": "stderr",
     "output_type": "stream",
     "text": [
      "/opt/conda/lib/python3.6/site-packages/ipykernel_launcher.py:49: MatplotlibDeprecationWarning: axes.hold is deprecated.\n",
      "    See the API Changes document (http://matplotlib.org/api/api_changes.html)\n",
      "    for more details.\n"
     ]
    },
    {
     "name": "stdout",
     "output_type": "stream",
     "text": [
      "Number of clusters found: 2\n"
     ]
    },
    {
     "name": "stderr",
     "output_type": "stream",
     "text": [
      "/opt/conda/lib/python3.6/site-packages/ipykernel_launcher.py:59: MatplotlibDeprecationWarning: axes.hold is deprecated.\n",
      "    See the API Changes document (http://matplotlib.org/api/api_changes.html)\n",
      "    for more details.\n"
     ]
    },
    {
     "data": {
      "image/png": "[encoded data removed]",
      "text/plain": [
       "<matplotlib.figure.Figure at 0x7f405e2612b0>"
      ]
     },
     "metadata": {},
     "output_type": "display_data"
    }
   ],
   "source": [
    "\n",
    "def get_data(config):\n",
    "    data = []\n",
    "    with open(DATA, 'rt') as file_obj:\n",
    "        csv_reader = csv.reader(file_obj)\n",
    "        for id_, row in enumerate(csv_reader):\n",
    "            if len(row) < config['dim']:\n",
    "                print (\"ERROR: The data you have provided has fewer \\\n",
    "                    dimensions than expected (dim = %d < %d)\"\n",
    "                    % (config['dim'], len(row)))\n",
    "                sys.exit()\n",
    "            else:\n",
    "                point = {'id':id_}\n",
    "                for dim in range(0, config['dim']):\n",
    "                    point[dim] = float(row[dim])\n",
    "                data.append(point)\n",
    "    return data\n",
    "\n",
    "\n",
    "\n",
    "CONFIG = 'config'\n",
    "DATA = '../data/blobs2.csv'\n",
    "\n",
    "config = {'eps':0.2, 'min_pts': 2, 'dim': 2}\n",
    "\n",
    "dbc = DBScanner(config)\n",
    "data = get_data(config)\n",
    "\n",
    "dbc.dbscan(data)\n",
    "\n"
   ]
  },
  {
   "cell_type": "code",
   "execution_count": null,
   "metadata": {},
   "outputs": [],
   "source": [
    "CONFIG = 'config'\n",
    "DATA = '../data/blobs2.csv'\n",
    "\n",
    "config = {'eps':1, 'min_pts': 2, 'dim': 2}\n",
    "\n",
    "dbc = DBScanner(config)\n",
    "data = get_data(config)\n",
    "\n",
    "dbc.dbscan(data)"
   ]
  },
  {
   "cell_type": "code",
   "execution_count": null,
   "metadata": {},
   "outputs": [],
   "source": [
    "CONFIG = 'config'\n",
    "DATA = '../data/moons2.csv'\n",
    "\n",
    "config = {'eps':1, 'min_pts': 2, 'dim': 2}\n",
    "\n",
    "dbc = DBScanner(config)\n",
    "data = get_data(config)\n",
    "\n",
    "dbc.dbscan(data)"
   ]
  },
  {
   "cell_type": "code",
   "execution_count": null,
   "metadata": {},
   "outputs": [],
   "source": [
    "CONFIG = 'config'\n",
    "DATA = '../data/moons2.csv'\n",
    "\n",
    "config = {'eps':0.3, 'min_pts': 2, 'dim': 2}\n",
    "\n",
    "dbc = DBScanner(config)\n",
    "data = get_data(config)\n",
    "\n",
    "dbc.dbscan(data)"
   ]
  },
  {
   "cell_type": "code",
   "execution_count": 22,
   "metadata": {},
   "outputs": [
    {
     "name": "stdout",
     "output_type": "stream",
     "text": [
      "Number of clusters found: 1\n"
     ]
    },
    {
     "name": "stderr",
     "output_type": "stream",
     "text": [
      "/opt/conda/lib/python3.6/site-packages/ipykernel_launcher.py:49: MatplotlibDeprecationWarning: axes.hold is deprecated.\n",
      "    See the API Changes document (http://matplotlib.org/api/api_changes.html)\n",
      "    for more details.\n",
      "/opt/conda/lib/python3.6/site-packages/ipykernel_launcher.py:59: MatplotlibDeprecationWarning: axes.hold is deprecated.\n",
      "    See the API Changes document (http://matplotlib.org/api/api_changes.html)\n",
      "    for more details.\n"
     ]
    },
    {
     "data": {
      "image/png": "[encoded data removed]",
      "text/plain": [
       "<matplotlib.figure.Figure at 0x7efef46c7198>"
      ]
     },
     "metadata": {},
     "output_type": "display_data"
    }
   ],
   "source": [
    "CONFIG = 'config'\n",
    "DATA = '../data/circle2.csv'\n",
    "\n",
    "config = {'eps':0.3, 'min_pts': 2, 'dim': 2}\n",
    "\n",
    "dbc = DBScanner(config)\n",
    "data = get_data(config)\n",
    "\n",
    "dbc.dbscan(data)"
   ]
  },
  {
   "cell_type": "code",
   "execution_count": 3,
   "metadata": {},
   "outputs": [
    {
     "ename": "NameError",
     "evalue": "name 'DBScanner' is not defined",
     "output_type": "error",
     "traceback": [
      "\u001b[0;31m---------------------------------------------------------------------------\u001b[0m",
      "\u001b[0;31mNameError\u001b[0m                                 Traceback (most recent call last)",
      "\u001b[0;32m<ipython-input-3-4afaa8dd0a32>\u001b[0m in \u001b[0;36m<module>\u001b[0;34m()\u001b[0m\n\u001b[1;32m      4\u001b[0m \u001b[0mconfig\u001b[0m \u001b[0;34m=\u001b[0m \u001b[0;34m{\u001b[0m\u001b[0;34m'eps'\u001b[0m\u001b[0;34m:\u001b[0m\u001b[0;36m0.2\u001b[0m\u001b[0;34m,\u001b[0m \u001b[0;34m'min_pts'\u001b[0m\u001b[0;34m:\u001b[0m \u001b[0;36m2\u001b[0m\u001b[0;34m,\u001b[0m \u001b[0;34m'dim'\u001b[0m\u001b[0;34m:\u001b[0m \u001b[0;36m2\u001b[0m\u001b[0;34m}\u001b[0m\u001b[0;34m\u001b[0m\u001b[0m\n\u001b[1;32m      5\u001b[0m \u001b[0;34m\u001b[0m\u001b[0m\n\u001b[0;32m----> 6\u001b[0;31m \u001b[0mdbc\u001b[0m \u001b[0;34m=\u001b[0m \u001b[0mDBScanner\u001b[0m\u001b[0;34m(\u001b[0m\u001b[0mconfig\u001b[0m\u001b[0;34m)\u001b[0m\u001b[0;34m\u001b[0m\u001b[0m\n\u001b[0m\u001b[1;32m      7\u001b[0m \u001b[0mdata\u001b[0m \u001b[0;34m=\u001b[0m \u001b[0mget_data\u001b[0m\u001b[0;34m(\u001b[0m\u001b[0mconfig\u001b[0m\u001b[0;34m)\u001b[0m\u001b[0;34m\u001b[0m\u001b[0m\n\u001b[1;32m      8\u001b[0m \u001b[0;34m\u001b[0m\u001b[0m\n",
      "\u001b[0;31mNameError\u001b[0m: name 'DBScanner' is not defined"
     ]
    }
   ],
   "source": [
    "CONFIG = 'config'\n",
    "DATA = '../data/circle2.csv'\n",
    "\n",
    "config = {'eps':0.2, 'min_pts': 2, 'dim': 2}\n",
    "\n",
    "dbc = DBScanner(config)\n",
    "data = get_data(config)\n",
    "\n",
    "dbc.dbscan(data)"
   ]
  },
  {
   "cell_type": "code",
   "execution_count": 2,
   "metadata": {},
   "outputs": [
    {
     "ename": "NameError",
     "evalue": "name 'dbc' is not defined",
     "output_type": "error",
     "traceback": [
      "\u001b[0;31m---------------------------------------------------------------------------\u001b[0m",
      "\u001b[0;31mNameError\u001b[0m                                 Traceback (most recent call last)",
      "\u001b[0;32m<ipython-input-2-351c64fa9d9c>\u001b[0m in \u001b[0;36m<module>\u001b[0;34m()\u001b[0m\n\u001b[0;32m----> 1\u001b[0;31m \u001b[0mdbc\u001b[0m\u001b[0;34m.\u001b[0m\u001b[0mclusters\u001b[0m\u001b[0;34m\u001b[0m\u001b[0m\n\u001b[0m",
      "\u001b[0;31mNameError\u001b[0m: name 'dbc' is not defined"
     ]
    }
   ],
   "source": [
    "dbc.clusters"
   ]
  },
  {
   "cell_type": "code",
   "execution_count": null,
   "metadata": {
    "collapsed": true
   },
   "outputs": [],
   "source": []
  }
 ],
 "metadata": {
  "kernelspec": {
   "display_name": "Python 3",
   "language": "python",
   "name": "python3"
  },
  "language_info": {
   "codemirror_mode": {
    "name": "ipython",
    "version": 3
   },
   "file_extension": ".py",
   "mimetype": "text/x-python",
   "name": "python",
   "nbconvert_exporter": "python",
   "pygments_lexer": "ipython3",
   "version": "3.6.3"
  }
 },
 "nbformat": 4,
 "nbformat_minor": 2
}
