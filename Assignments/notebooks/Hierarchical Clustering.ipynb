{
 "cells": [
  {
   "cell_type": "code",
   "execution_count": 35,
   "metadata": {},
   "outputs": [],
   "source": [
    "import mnist\n",
    "from sklearn.preprocessing import StandardScaler\n",
    "# needed imports\n",
    "from matplotlib import pyplot as plt\n",
    "from scipy.cluster.hierarchy import dendrogram, linkage\n",
    "import numpy as np\n",
    "from scipy.cluster.hierarchy import fcluster\n",
    "import pandas as pd\n",
    "%matplotlib inline\n",
    "np.set_printoptions(precision=5, suppress=True)  # suppress scientific float notation\n"
   ]
  },
  {
   "cell_type": "code",
   "execution_count": 5,
   "metadata": {},
   "outputs": [
    {
     "name": "stderr",
     "output_type": "stream",
     "text": [
      "/opt/conda/lib/python3.6/site-packages/sklearn/utils/validation.py:475: DataConversionWarning: Data with input dtype uint8 was converted to float64 by StandardScaler.\n",
      "  warnings.warn(msg, DataConversionWarning)\n"
     ]
    }
   ],
   "source": [
    "train_images = mnist.train_images()\n",
    "train_labels = mnist.train_labels()\n",
    "\n",
    "test_images = mnist.test_images()\n",
    "test_labels = mnist.test_labels()\n",
    "\n",
    "scaler              = StandardScaler()\n",
    "\n",
    "scaled_train_images = scaler.fit_transform(train_images.reshape\\\n",
    "                                     ((train_images.shape[0], train_images.shape[1] * train_images.shape[2])))\n",
    "scaled_test_images  = scaler.fit_transform(test_images.reshape\\\n",
    "                                     ((test_images.shape[0], test_images.shape[1] * test_images.shape[2])))\n",
    "\n",
    "\n"
   ]
  },
  {
   "cell_type": "code",
   "execution_count": 10,
   "metadata": {},
   "outputs": [
    {
     "data": {
      "text/plain": [
       "array([[  9.21188,  -0.15189],\n",
       "       [  8.88937,  -0.33937],\n",
       "       [ 10.7684 ,   2.95245],\n",
       "       [  8.24213,   1.29095],\n",
       "       [  5.7967 ,  -5.83777],\n",
       "       [  6.34993,   0.6396 ],\n",
       "       [  8.10571,  -0.45887],\n",
       "       [  8.72085,  -4.40444],\n",
       "       [  8.83501,  -0.39166],\n",
       "       [ 10.40061,   2.71241],\n",
       "       [ 11.95503,   1.98603],\n",
       "       [  8.50142,   0.5035 ],\n",
       "       [  9.23359,   1.30693],\n",
       "       [ 12.27768,   1.62764],\n",
       "       [ 10.95902,  -0.12752],\n",
       "       [  8.72437,  -0.73102],\n",
       "       [  9.64949,   3.41989],\n",
       "       [ 11.49912,  -0.55113],\n",
       "       [ 11.48256,  -0.28623],\n",
       "       [  8.5874 ,   1.66814],\n",
       "       [ 11.9557 ,  -1.27351],\n",
       "       [  9.85622,   1.08989],\n",
       "       [ 10.11831,   1.08458],\n",
       "       [  7.76042,   0.63747],\n",
       "       [ 10.99794,  -2.93747],\n",
       "       [  6.9085 ,  -1.44868],\n",
       "       [  7.85787,  -0.99148],\n",
       "       [  6.12508,  -2.44306],\n",
       "       [ 10.61144,  -0.23623],\n",
       "       [ 11.09217,  -1.69984],\n",
       "       [  7.15907,  -0.12267],\n",
       "       [ 10.73784,  -1.63561],\n",
       "       [  8.23932,   1.55744],\n",
       "       [  9.83913,  -0.4873 ],\n",
       "       [ 11.26222,  -0.17158],\n",
       "       [ 10.67802,  -0.46974],\n",
       "       [ 13.90816,   2.36856],\n",
       "       [ 11.21979,   3.35442],\n",
       "       [  9.08491,  -3.38582],\n",
       "       [  7.77229,  -1.2382 ],\n",
       "       [ 16.36333,   5.24745],\n",
       "       [  8.81583,  -0.56394],\n",
       "       [  8.13179,   1.87917],\n",
       "       [ 10.13499,  -1.18689],\n",
       "       [  8.59431,   0.7797 ],\n",
       "       [  8.98565,  -2.72057],\n",
       "       [  9.86312,   1.75254],\n",
       "       [ 12.25994,   1.22973],\n",
       "       [ 12.19145,  -0.05196],\n",
       "       [ 12.3745 ,  -2.34243],\n",
       "       [  9.98418,   1.56825],\n",
       "       [  8.68402,  -2.09666],\n",
       "       [ 10.18803,   0.91404],\n",
       "       [ 10.21254,   0.88053],\n",
       "       [  8.402  ,  -1.40096],\n",
       "       [ 10.48088,  -1.1919 ],\n",
       "       [  9.35848,   0.70857],\n",
       "       [ 11.88164,   4.12229],\n",
       "       [ 10.19448,  -2.78018],\n",
       "       [ 12.23631,   0.93161],\n",
       "       [  6.86418,  -4.03013],\n",
       "       [ 10.32754,  -2.8246 ],\n",
       "       [  9.97793,  -0.56383],\n",
       "       [  9.6348 ,  -0.90549],\n",
       "       [  8.80166,  -2.42264],\n",
       "       [  8.53958,   2.58027],\n",
       "       [ 10.36697,   2.82031],\n",
       "       [  7.9081 ,  -1.8471 ],\n",
       "       [  9.89349,  -0.44152],\n",
       "       [  8.6953 ,  -0.62049],\n",
       "       [  9.30179,   0.10478],\n",
       "       [  9.85058,   1.35183],\n",
       "       [ 10.71074,   0.58267],\n",
       "       [ 11.54574,  -0.60518],\n",
       "       [  8.59349,   2.69294],\n",
       "       [ 12.34116,  -1.76219],\n",
       "       [ 13.14934,   2.85031],\n",
       "       [  9.4168 ,   2.70293],\n",
       "       [  8.91523,   1.06233],\n",
       "       [ 10.91086,  -0.16184],\n",
       "       [ 10.55486,  -1.49158],\n",
       "       [ 12.63236,   2.22172],\n",
       "       [ 10.06665,  -0.79825],\n",
       "       [ 12.13005,   2.05003],\n",
       "       [  7.76127,  -0.09679],\n",
       "       [ 12.49528,   0.7411 ],\n",
       "       [ 12.92503,   0.56741],\n",
       "       [  9.36541,  -1.40604],\n",
       "       [  7.79571,  -1.44315],\n",
       "       [ 10.82672,  -2.08811],\n",
       "       [ 11.95397,   1.08769],\n",
       "       [  6.59948,   0.86934],\n",
       "       [  9.45548,  -2.48749],\n",
       "       [ 11.00038,   2.6571 ],\n",
       "       [ 11.00014,   1.25281],\n",
       "       [ 12.59778,   0.70323],\n",
       "       [  9.24786,   0.31736],\n",
       "       [  8.73431,  -1.52812],\n",
       "       [  9.62903,  -0.78443],\n",
       "       [ 13.02959,   3.1222 ],\n",
       "       [  0.79934,  19.28762],\n",
       "       [ -0.84336,  19.14768],\n",
       "       [  2.68289,  20.28232],\n",
       "       [ -1.92578,  16.28116],\n",
       "       [  0.06693,  23.13071],\n",
       "       [  1.42543,  20.57584],\n",
       "       [  0.89064,  20.85059],\n",
       "       [  0.46998,  19.45692],\n",
       "       [  0.64147,  21.89409],\n",
       "       [  0.83048,  17.3592 ],\n",
       "       [ -0.18723,  18.88187],\n",
       "       [ -2.84504,  18.30168],\n",
       "       [ -0.07865,  21.50771],\n",
       "       [  0.62828,  17.45787],\n",
       "       [  2.02318,  22.44787],\n",
       "       [  0.50775,  19.34125],\n",
       "       [ -1.55474,  19.69585],\n",
       "       [ -2.54958,  20.01232],\n",
       "       [  0.2621 ,  22.16455],\n",
       "       [  1.43291,  17.48622],\n",
       "       [  0.47085,  24.08457],\n",
       "       [  1.47295,  21.63667],\n",
       "       [ -2.01973,  17.0863 ],\n",
       "       [  0.30695,  18.56967],\n",
       "       [ -0.17538,  19.50071],\n",
       "       [ -1.04773,  14.76553],\n",
       "       [ -3.1254 ,  18.89846],\n",
       "       [ -2.0059 ,  22.5818 ],\n",
       "       [  2.82514,  22.7972 ],\n",
       "       [  2.93005,  17.32672],\n",
       "       [  1.37737,  20.96611],\n",
       "       [  0.60224,  21.99693],\n",
       "       [ -0.37393,  20.77203],\n",
       "       [  0.0071 ,  22.47931],\n",
       "       [ -0.76543,  19.61954],\n",
       "       [  0.37375,  20.18765],\n",
       "       [ -1.55002,  20.28733],\n",
       "       [  1.68351,  20.5509 ],\n",
       "       [ -0.81116,  18.10299],\n",
       "       [  1.82078,  22.4209 ],\n",
       "       [ -0.97993,  16.10622],\n",
       "       [  3.83842,  18.73497],\n",
       "       [  0.35858,  21.10633],\n",
       "       [  0.16514,  19.55743],\n",
       "       [  0.87923,  21.66081],\n",
       "       [  0.13719,  18.78208],\n",
       "       [  0.88147,  18.27187],\n",
       "       [  2.71952,  20.75219],\n",
       "       [  2.02869,  20.20869],\n",
       "       [  1.82184,  21.0003 ]])"
      ]
     },
     "execution_count": 10,
     "metadata": {},
     "output_type": "execute_result"
    }
   ],
   "source": [
    "X"
   ]
  },
  {
   "cell_type": "code",
   "execution_count": 13,
   "metadata": {
    "collapsed": true
   },
   "outputs": [],
   "source": [
    "Z = linkage(scaled_test_images, 'ward')"
   ]
  },
  {
   "cell_type": "code",
   "execution_count": 14,
   "metadata": {},
   "outputs": [
    {
     "data": {
      "text/plain": [
       "array([[  1392.     ,   4871.     ,      2.7859 ,      2.     ],\n",
       "       [  3641.     ,   9335.     ,      2.84857,      2.     ],\n",
       "       [  1213.     ,   3930.     ,      2.85448,      2.     ],\n",
       "       ..., \n",
       "       [ 19984.     ,  19995.     ,    512.89738,   6261.     ],\n",
       "       [ 19976.     ,  19996.     ,    588.42721,   6808.     ],\n",
       "       [ 19994.     ,  19997.     ,    608.34945,  10000.     ]])"
      ]
     },
     "execution_count": 14,
     "metadata": {},
     "output_type": "execute_result"
    }
   ],
   "source": [
    "Z"
   ]
  },
  {
   "cell_type": "code",
   "execution_count": 15,
   "metadata": {},
   "outputs": [
    {
     "data": {
      "image/png": "[encoded data removed]",
      "text/plain": [
       "<matplotlib.figure.Figure at 0x7f3ada6d2ba8>"
      ]
     },
     "metadata": {},
     "output_type": "display_data"
    }
   ],
   "source": [
    "plt.figure(figsize=(25, 10))\n",
    "plt.title('Hierarchical Clustering Dendrogram')\n",
    "plt.xlabel('sample index')\n",
    "plt.ylabel('distance')\n",
    "dendrogram(\n",
    "    Z,\n",
    "    leaf_rotation=90.,  # rotates the x axis labels\n",
    "    leaf_font_size=8.,  # font size for the x axis labels\n",
    ")\n",
    "plt.show()\n"
   ]
  },
  {
   "cell_type": "code",
   "execution_count": 19,
   "metadata": {},
   "outputs": [
    {
     "data": {
      "text/plain": [
       "array([ 342.11107,  347.52296,  347.86967,  358.28507,  406.29738,\n",
       "        417.02099,  480.07948,  512.89738,  588.42721,  608.34945])"
      ]
     },
     "execution_count": 19,
     "metadata": {},
     "output_type": "execute_result"
    }
   ],
   "source": [
    "Z[-10:, 2]"
   ]
  },
  {
   "cell_type": "code",
   "execution_count": 26,
   "metadata": {},
   "outputs": [
    {
     "data": {
      "image/png": "[encoded data removed]",
      "text/plain": [
       "<matplotlib.figure.Figure at 0x7f3ac2570ba8>"
      ]
     },
     "metadata": {},
     "output_type": "display_data"
    }
   ],
   "source": [
    "fig, ax = plt.subplots()\n",
    "\n",
    "line1, = ax.plot(range(100), Z[-100:, 2], '--', linewidth=2,\n",
    "                 label='Dashes set retroactively')\n",
    "\n",
    "\n",
    "plt.show()\n"
   ]
  },
  {
   "cell_type": "markdown",
   "metadata": {},
   "source": [
    "As we can see, the distances between clusters seem to increase exponentially after the 80th iteration, indicating that everything below that might be too close to each other to form seperate clusters. Therefore we will truncate the dendogram top show only the last 20 clusters."
   ]
  },
  {
   "cell_type": "code",
   "execution_count": 29,
   "metadata": {},
   "outputs": [
    {
     "data": {
      "image/png": "[encoded data removed]",
      "text/plain": [
       "<matplotlib.figure.Figure at 0x7f3ac500bc18>"
      ]
     },
     "metadata": {},
     "output_type": "display_data"
    }
   ],
   "source": [
    "plt.title('Truncated Dendogram')\n",
    "plt.xlabel('index')\n",
    "plt.ylabel('distance')\n",
    "dendrogram(\n",
    "    Z,\n",
    "    truncate_mode='lastp',  # show only the last p merged clusters\n",
    "    p=20,  # show only the last p merged clusters\n",
    "    show_leaf_counts=False,  # otherwise numbers in brackets are counts\n",
    "    leaf_rotation=90.,\n",
    "    leaf_font_size=9.,\n",
    "    show_contracted=True,  # to get a distribution impression in truncated branches\n",
    ")\n",
    "plt.show()"
   ]
  },
  {
   "cell_type": "code",
   "execution_count": 32,
   "metadata": {},
   "outputs": [
    {
     "data": {
      "text/plain": [
       "array([  7, 518, 259, ...,  69, 344, 434], dtype=int32)"
      ]
     },
     "execution_count": 32,
     "metadata": {},
     "output_type": "execute_result"
    }
   ],
   "source": [
    "max_d = 50\n",
    "clusters = fcluster(Z, max_d, criterion='distance')\n"
   ]
  },
  {
   "cell_type": "code",
   "execution_count": 33,
   "metadata": {},
   "outputs": [
    {
     "data": {
      "text/plain": [
       "10000"
      ]
     },
     "execution_count": 33,
     "metadata": {},
     "output_type": "execute_result"
    }
   ],
   "source": [
    "len(clusters)"
   ]
  },
  {
   "cell_type": "code",
   "execution_count": 36,
   "metadata": {},
   "outputs": [
    {
     "data": {
      "text/plain": [
       "0.8813"
      ]
     },
     "execution_count": 36,
     "metadata": {},
     "output_type": "execute_result"
    }
   ],
   "source": [
    "\n",
    "purity_df = pd.DataFrame([clusters, test_labels]).transpose()\n",
    "purity_df.columns = ['yhat_test', 'y_test']\n",
    "purity_numerator = 0\n",
    "purity_denominator = len(purity_df)\n",
    "\n",
    "for cluster in purity_df['yhat_test'].unique():\n",
    "    \n",
    "    purity_numerator += int(purity_df[purity_df['yhat_test'] == cluster].groupby('y_test')\\\n",
    "                                .count()\\\n",
    "                                .sort_values('yhat_test', ascending=False)\\\n",
    "                                .iloc[0])\n",
    "purity_numerator/purity_denominator"
   ]
  },
  {
   "cell_type": "code",
   "execution_count": 45,
   "metadata": {},
   "outputs": [
    {
     "data": {
      "text/plain": [
       "0.84165940516120452"
      ]
     },
     "execution_count": 45,
     "metadata": {},
     "output_type": "execute_result"
    }
   ],
   "source": [
    "#gini_coeffs = np.zeros([len(purity_df['y_test'].unique()), 2])\n",
    "gini_coeffs = np.zeros([len(set(clusters)), 2])\n",
    "i = 0\n",
    "k = len(set(clusters))\n",
    "\n",
    "for cluster in clusters:\n",
    "\n",
    "    if (i < k):\n",
    "        \n",
    "        gini_coeffs[i][0] = sum(((purity_df[purity_df['yhat_test'] == cluster].groupby('y_test')\\\n",
    "                                    .count()\\\n",
    "                                    .sort_values('yhat_test', ascending=False)\\\n",
    "                            /len(purity_df[purity_df['yhat_test'] == cluster]))\\\n",
    "                            **2)\\\n",
    "                            ['yhat_test'])\n",
    "\n",
    "        gini_coeffs[i][1] = len(purity_df[purity_df['yhat_test'] == cluster])\n",
    "\n",
    "        i += 1\n",
    "    \n",
    "    else: break\n",
    "\n",
    "sum(gini_coeffs[:,0] * gini_coeffs[:,1]) / sum(gini_coeffs[:,1])"
   ]
  },
  {
   "cell_type": "code",
   "execution_count": 39,
   "metadata": {},
   "outputs": [
    {
     "data": {
      "text/plain": [
       "596"
      ]
     },
     "execution_count": 39,
     "metadata": {},
     "output_type": "execute_result"
    }
   ],
   "source": [
    "len(set(clusters))"
   ]
  },
  {
   "cell_type": "code",
   "execution_count": 43,
   "metadata": {},
   "outputs": [
    {
     "data": {
      "text/plain": [
       "10"
      ]
     },
     "execution_count": 43,
     "metadata": {},
     "output_type": "execute_result"
    }
   ],
   "source": [
    "len(purity_df['y_test'].unique())"
   ]
  },
  {
   "cell_type": "code",
   "execution_count": null,
   "metadata": {
    "collapsed": true
   },
   "outputs": [],
   "source": []
  }
 ],
 "metadata": {
  "kernelspec": {
   "display_name": "Python 3",
   "language": "python",
   "name": "python3"
  },
  "language_info": {
   "codemirror_mode": {
    "name": "ipython",
    "version": 3
   },
   "file_extension": ".py",
   "mimetype": "text/x-python",
   "name": "python",
   "nbconvert_exporter": "python",
   "pygments_lexer": "ipython3",
   "version": "3.6.4"
  }
 },
 "nbformat": 4,
 "nbformat_minor": 2
}
