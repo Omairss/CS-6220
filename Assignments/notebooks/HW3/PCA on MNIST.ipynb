{
 "cells": [
  {
   "cell_type": "code",
   "execution_count": 13,
   "metadata": {},
   "outputs": [],
   "source": [
    "import numpy as np\n",
    "import mnist\n",
    "from sklearn.preprocessing import StandardScaler\n",
    "from sklearn.linear_model import LogisticRegression\n",
    "from sklearn.tree import DecisionTreeClassifier"
   ]
  },
  {
   "cell_type": "markdown",
   "metadata": {},
   "source": [
    "## MNIST"
   ]
  },
  {
   "cell_type": "code",
   "execution_count": 3,
   "metadata": {},
   "outputs": [],
   "source": [
    "train_img = mnist.train_images()\n",
    "train_lbl = mnist.train_labels()\n",
    "\n",
    "test_img = mnist.test_images()\n",
    "test_lbl = mnist.test_labels()\n",
    "\n",
    "train_img = train_img.reshape((train_img.shape[0], train_img.shape[1] * train_img.shape[2]))\n",
    "\n",
    "test_img = test_img.reshape((test_img.shape[0], test_img.shape[1] * test_img.shape[2]))"
   ]
  },
  {
   "cell_type": "code",
   "execution_count": 7,
   "metadata": {},
   "outputs": [
    {
     "name": "stderr",
     "output_type": "stream",
     "text": [
      "/opt/conda/lib/python3.6/site-packages/sklearn/utils/validation.py:475: DataConversionWarning: Data with input dtype uint8 was converted to float64 by StandardScaler.\n",
      "  warnings.warn(msg, DataConversionWarning)\n"
     ]
    }
   ],
   "source": [
    "scalar = StandardScaler()\n",
    "train_img_scaled = scalar.fit_transform(train_img)\n",
    "test_img_scaled = scalar.transform(test_img)"
   ]
  },
  {
   "cell_type": "code",
   "execution_count": 8,
   "metadata": {},
   "outputs": [],
   "source": [
    "sigma = np.cov(train_img_scaled.T)\n",
    "eig_vals, eig_vectors = np.linalg.eig(sigma)\n",
    "eig_vals_sorted = sorted(eig_vals, reverse=True)\n",
    "top_5 = eig_vals_sorted[:5]\n",
    "top_5_args = np.argsort(eig_vals)[::-1][:5]\n",
    "top_20 = eig_vals_sorted[:20]\n",
    "top_20_args = np.argsort(eig_vals)[::-1][:20]"
   ]
  },
  {
   "cell_type": "code",
   "execution_count": 10,
   "metadata": {},
   "outputs": [],
   "source": [
    "train_img_transformed_5 = np.dot(train_img_scaled, eig_vectors[:, top_5_args])\n",
    "test_img_transformed_5 = np.dot(test_img_scaled, eig_vectors[:, top_5_args])\n",
    "\n",
    "train_img_transformed_20 = np.dot(train_img_scaled, eig_vectors[:, top_20_args])\n",
    "test_img_transformed_20 = np.dot(test_img_scaled, eig_vectors[:, top_20_args])"
   ]
  },
  {
   "cell_type": "code",
   "execution_count": 15,
   "metadata": {},
   "outputs": [
    {
     "data": {
      "text/plain": [
       "0.6459"
      ]
     },
     "execution_count": 15,
     "metadata": {},
     "output_type": "execute_result"
    }
   ],
   "source": [
    "logisticRegr = LogisticRegression(penalty='l2')\n",
    "logisticRegr.fit(train_img_transformed_5, train_lbl)\n",
    "predictions = logisticRegr.predict(test_img_transformed_5)\n",
    "score = logisticRegr.score(test_img_transformed_5, test_lbl)\n",
    "score"
   ]
  },
  {
   "cell_type": "code",
   "execution_count": 16,
   "metadata": {},
   "outputs": [
    {
     "data": {
      "text/plain": [
       "0.8582"
      ]
     },
     "execution_count": 16,
     "metadata": {},
     "output_type": "execute_result"
    }
   ],
   "source": [
    "logisticRegr = LogisticRegression(penalty='l2')\n",
    "logisticRegr.fit(train_img_transformed_20, train_lbl)\n",
    "predictions = logisticRegr.predict(test_img_transformed_20)\n",
    "score = logisticRegr.score(test_img_transformed_20, test_lbl)\n",
    "score"
   ]
  },
  {
   "cell_type": "markdown",
   "metadata": {},
   "source": [
    "## Decision Tree"
   ]
  },
  {
   "cell_type": "code",
   "execution_count": 17,
   "metadata": {},
   "outputs": [
    {
     "data": {
      "text/plain": [
       "0.8477"
      ]
     },
     "execution_count": 17,
     "metadata": {},
     "output_type": "execute_result"
    }
   ],
   "source": [
    "dt = DecisionTreeClassifier(random_state=666)\n",
    "dt.fit(train_img_transformed_20, train_lbl)\n",
    "predictions = dt.predict(test_img_transformed_20)\n",
    "score = dt.score(test_img_transformed_20, test_lbl)\n",
    "score"
   ]
  },
  {
   "cell_type": "code",
   "execution_count": 18,
   "metadata": {},
   "outputs": [
    {
     "data": {
      "text/plain": [
       "0.6682"
      ]
     },
     "execution_count": 18,
     "metadata": {},
     "output_type": "execute_result"
    }
   ],
   "source": [
    "dt = DecisionTreeClassifier(random_state=666)\n",
    "dt.fit(train_img_transformed_5, train_lbl)\n",
    "predictions = dt.predict(test_img_transformed_5)\n",
    "score = dt.score(test_img_transformed_5, test_lbl)\n",
    "score"
   ]
  },
  {
   "cell_type": "code",
   "execution_count": null,
   "metadata": {},
   "outputs": [],
   "source": []
  }
 ],
 "metadata": {
  "kernelspec": {
   "display_name": "Python 3",
   "language": "python",
   "name": "python3"
  },
  "language_info": {
   "codemirror_mode": {
    "name": "ipython",
    "version": 3
   },
   "file_extension": ".py",
   "mimetype": "text/x-python",
   "name": "python",
   "nbconvert_exporter": "python",
   "pygments_lexer": "ipython3",
   "version": "3.6.4"
  }
 },
 "nbformat": 4,
 "nbformat_minor": 2
}
