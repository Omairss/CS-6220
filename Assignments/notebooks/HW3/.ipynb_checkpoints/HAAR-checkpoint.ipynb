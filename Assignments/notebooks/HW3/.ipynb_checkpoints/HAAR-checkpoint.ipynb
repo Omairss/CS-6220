{
 "cells": [
  {
   "cell_type": "code",
   "execution_count": 3,
   "metadata": {},
   "outputs": [],
   "source": [
    "import numpy as np\n",
    "import mnist\n",
    "from sklearn.preprocessing import StandardScaler\n",
    "from sklearn.linear_model import LogisticRegression\n",
    "from sklearn.tree import DecisionTreeClassifier"
   ]
  },
  {
   "cell_type": "code",
   "execution_count": 4,
   "metadata": {},
   "outputs": [],
   "source": [
    "train_img = mnist.train_images()\n",
    "train_lbl = mnist.train_labels()\n",
    "\n",
    "test_img = mnist.test_images()\n",
    "test_lbl = mnist.test_labels()\n",
    "\n",
    "train_img = train_img.reshape((train_img.shape[0], train_img.shape[1] * train_img.shape[2]))\n",
    "\n",
    "test_img = test_img.reshape((test_img.shape[0], test_img.shape[1] * test_img.shape[2]))"
   ]
  },
  {
   "cell_type": "code",
   "execution_count": 5,
   "metadata": {},
   "outputs": [],
   "source": [
    "train_img = np.array(train_img, dtype='float32') / 255\n",
    "train_lbl = np.array(train_lbl, dtype='int16')\n",
    "\n",
    "test_img = np.array(test_img, dtype='float32') / 255\n",
    "train_lbl = np.array(train_lbl, dtype='int16')"
   ]
  },
  {
   "cell_type": "code",
   "execution_count": 6,
   "metadata": {},
   "outputs": [],
   "source": [
    "def compute_black(image):\n",
    "    \n",
    "    black = []\n",
    "    \n",
    "    for idx in range(image.shape[0]):\n",
    "        \n",
    "        b = np.empty((28,28))     \n",
    "        \n",
    "        x = image[idx].reshape((28,28)) \n",
    "        \n",
    "        b[0, 0] = 1 if x[0, 0] == 0 else 0\n",
    "        \n",
    "        for i in range(1, 28):\n",
    "            \n",
    "            t = b[0, i - 1]\n",
    "            \n",
    "            b[0, i] = t + 1 if x[0, i] == 0 else t\n",
    "            \n",
    "        for i in range(1, 28):\n",
    "            \n",
    "            for j in range(28):\n",
    "                \n",
    "                if j == 0:\n",
    "                    \n",
    "                    t = b[i - 1, j]\n",
    "                    \n",
    "                    b[i, j] = t + 1 if x[i, j] == 0 else t\n",
    "                \n",
    "                else:\n",
    "                    \n",
    "                    t = b[i - 1, j] + b[i, j - 1] - b[i - 1, j - 1]\n",
    "                    \n",
    "                    b[i, j] = t + 1 if x[i, j] == 0 else t\n",
    "                    \n",
    "        black.append(b)\n",
    "        \n",
    "    return np.array(black, dtype='int')"
   ]
  },
  {
   "cell_type": "code",
   "execution_count": 7,
   "metadata": {},
   "outputs": [],
   "source": [
    "train_img_black = compute_black(train_img)"
   ]
  },
  {
   "cell_type": "code",
   "execution_count": 12,
   "metadata": {},
   "outputs": [],
   "source": [
    "k = 100\n",
    "rect = []\n",
    "\n",
    "while len(rect) != k:\n",
    "    \n",
    "        topleft = np.random.randint(low=5, high=23, size=2)\n",
    "        b = np.random.randint(low=5, high=28 - topleft[1])\n",
    "        l = np.random.randint(low=5, high=28 - topleft[0])\n",
    "\n",
    "        if b * l < 130 or b * l >170:\n",
    "            continue\n",
    "\n",
    "        topright = np.array([topleft[0] + l, topleft[1]])\n",
    "\n",
    "        bottomleft = np.array([topleft[0], topleft[1] + b])\n",
    "\n",
    "        bottomright = np.array([topleft[0] + l, topleft[1] + b])\n",
    "\n",
    "        vtop = np.array([topleft[0] + l//2, topleft[1]])\n",
    "\n",
    "        vbottom = np.array([topleft[0] + l//2, topleft[1]])\n",
    "\n",
    "        hleft = np.array([topleft[0], topleft[1] + b//2])\n",
    "\n",
    "        hright = np.array([topright[0], topright[1] + b//2])\n",
    "\n",
    "        rect.append([topleft, topright, bottomleft, bottomright, vtop, vbottom, hleft, hright])"
   ]
  },
  {
   "cell_type": "code",
   "execution_count": 31,
   "metadata": {},
   "outputs": [],
   "source": [
    "def HARR(X, b):\n",
    "    \n",
    "    _X = np.empty((X.shape[0], 200), dtype='int16')\n",
    "    \n",
    "    for i in range(X.shape[0]):\n",
    "        \n",
    "        img = b[i]\n",
    "        \n",
    "        for j in range(k):\n",
    "            topleft, topright, bottomleft, bottomright, verticaltop, verticalbottom, horizontalleft, horizontalright = rect[j]\n",
    "            \n",
    "            top = img[horizontalright[0], horizontalright[1]] - img[horizontalleft[0], horizontalleft[1]] - img[topright[0], topright[1]] + img[topleft[0], topleft[1]]\n",
    "            \n",
    "            bottom = img[bottomright[0], bottomright[1]] - img[bottomleft[0], bottomleft[1]] - img[horizontalright[0], horizontalright[1]] + img[horizontalleft[0], horizontalleft[1]]\n",
    "            \n",
    "            v_score = top - bottom\n",
    "            \n",
    "            left = img[verticalbottom[0], verticalbottom[1]] - img[bottomleft[0], bottomleft[1]] - img[verticaltop[0], verticaltop[1]] + img[topleft[0], topleft[1]]\n",
    "            \n",
    "            right = img[bottomright[0], bottomright[1]] - img[verticalbottom[0], verticalbottom[1]] - img[topright[0], topright[1]] + img[verticaltop[0], verticaltop[1]]\n",
    "            \n",
    "            h_score = left - right\n",
    "\n",
    "            _X[i][j*2] = v_score\n",
    "            \n",
    "            _X[i][(j*2)+1] = h_score\n",
    "\n",
    "    return _X"
   ]
  },
  {
   "cell_type": "code",
   "execution_count": 32,
   "metadata": {},
   "outputs": [],
   "source": [
    "harr_train_img = HARR(train_img, train_img_black)"
   ]
  },
  {
   "cell_type": "code",
   "execution_count": 16,
   "metadata": {},
   "outputs": [
    {
     "name": "stderr",
     "output_type": "stream",
     "text": [
      "/opt/conda/lib/python3.6/site-packages/sklearn/linear_model/logistic.py:1228: UserWarning: 'n_jobs' > 1 does not have any effect when 'solver' is set to 'liblinear'. Got 'n_jobs' = -1.\n",
      "  \" = {}.\".format(self.n_jobs))\n"
     ]
    },
    {
     "name": "stdout",
     "output_type": "stream",
     "text": [
      "Train acc: 0.9090833333333334\n"
     ]
    }
   ],
   "source": [
    "mnist_lr = LogisticRegression(n_jobs=-1)\n",
    "mnist_lr.fit(harr_train_img, train_lbl)\n",
    "yhat = mnist_lr.predict(harr_train_img)\n",
    "sum(yhat == train_lbl)/len(train_lbl)"
   ]
  },
  {
   "cell_type": "code",
   "execution_count": 33,
   "metadata": {},
   "outputs": [],
   "source": [
    "test_img_black = compute_black(test_img)\n",
    "test_img_black_harr = HARR(test_img, test_img_black)\n",
    "yhat_test = mnist_lr.predict(test_img_black_harr)"
   ]
  },
  {
   "cell_type": "code",
   "execution_count": 29,
   "metadata": {},
   "outputs": [
    {
     "data": {
      "text/plain": [
       "0.9132"
      ]
     },
     "execution_count": 29,
     "metadata": {},
     "output_type": "execute_result"
    }
   ],
   "source": [
    "(sum(yhat_test == test_lbl)/len(test_lbl))"
   ]
  }
 ],
 "metadata": {
  "kernelspec": {
   "display_name": "Python 3",
   "language": "python",
   "name": "python3"
  },
  "language_info": {
   "codemirror_mode": {
    "name": "ipython",
    "version": 3
   },
   "file_extension": ".py",
   "mimetype": "text/x-python",
   "name": "python",
   "nbconvert_exporter": "python",
   "pygments_lexer": "ipython3",
   "version": "3.6.4"
  }
 },
 "nbformat": 4,
 "nbformat_minor": 2
}
