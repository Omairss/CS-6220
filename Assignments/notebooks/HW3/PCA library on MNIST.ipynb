{
 "cells": [
  {
   "cell_type": "code",
   "execution_count": 2,
   "metadata": {},
   "outputs": [],
   "source": [
    "import pandas as pd\n",
    "import mnist\n",
    "from sklearn.decomposition import PCA\n",
    "from sklearn.linear_model import LogisticRegression\n",
    "import numpy as np\n",
    "from sklearn import tree"
   ]
  },
  {
   "cell_type": "markdown",
   "metadata": {},
   "source": [
    "## PCA Mnist"
   ]
  },
  {
   "cell_type": "code",
   "execution_count": 3,
   "metadata": {},
   "outputs": [],
   "source": [
    "train_img = mnist.train_images()\n",
    "train_lbl = mnist.train_labels()\n",
    "\n",
    "test_img = mnist.test_images()\n",
    "test_lbl = mnist.test_labels()\n",
    "\n",
    "train_img = train_img.reshape((train_img.shape[0], train_img.shape[1] * train_img.shape[2]))\n",
    "\n",
    "test_img = test_img.reshape((test_img.shape[0], test_img.shape[1] * test_img.shape[2]))"
   ]
  },
  {
   "cell_type": "code",
   "execution_count": 23,
   "metadata": {},
   "outputs": [],
   "source": [
    "pca = PCA(n_components=5, copy=True, whiten=False, svd_solver='auto', tol=0.0, iterated_power='auto', random_state=None)"
   ]
  },
  {
   "cell_type": "code",
   "execution_count": 24,
   "metadata": {},
   "outputs": [],
   "source": [
    "pca.fit(train_img)\n",
    "new_train_img = pca.transform(train_img)\n",
    "new_test_img = pca.transform(test_img)"
   ]
  },
  {
   "cell_type": "code",
   "execution_count": 25,
   "metadata": {},
   "outputs": [
    {
     "data": {
      "text/plain": [
       "(60000, 5)"
      ]
     },
     "execution_count": 25,
     "metadata": {},
     "output_type": "execute_result"
    }
   ],
   "source": [
    "new_train_img.shape"
   ]
  },
  {
   "cell_type": "code",
   "execution_count": 26,
   "metadata": {},
   "outputs": [],
   "source": [
    "logisticRegr = LogisticRegression(solver = 'lbfgs')\n",
    "logisticRegr.fit(new_train_img, train_lbl)\n",
    "predictions = logisticRegr.predict(new_test_img)\n",
    "score = logisticRegr.score(new_test_img, test_lbl)"
   ]
  },
  {
   "cell_type": "code",
   "execution_count": 27,
   "metadata": {},
   "outputs": [
    {
     "data": {
      "text/plain": [
       "0.6529"
      ]
     },
     "execution_count": 27,
     "metadata": {},
     "output_type": "execute_result"
    }
   ],
   "source": [
    "score"
   ]
  },
  {
   "cell_type": "code",
   "execution_count": 29,
   "metadata": {},
   "outputs": [],
   "source": [
    "pca = PCA(n_components=20, copy=True, whiten=False, svd_solver='auto', tol=0.0, iterated_power='auto', random_state=None)\n",
    "pca.fit(train_img)\n",
    "new_train_img = pca.transform(train_img)\n",
    "new_test_img = pca.transform(test_img)\n",
    "\n",
    "logisticRegr = LogisticRegression(solver = 'lbfgs')\n",
    "logisticRegr.fit(new_train_img, train_lbl)\n",
    "predictions = logisticRegr.predict(new_test_img)\n",
    "score = logisticRegr.score(new_test_img, test_lbl)"
   ]
  },
  {
   "cell_type": "code",
   "execution_count": 30,
   "metadata": {},
   "outputs": [
    {
     "data": {
      "text/plain": [
       "0.8683"
      ]
     },
     "execution_count": 30,
     "metadata": {},
     "output_type": "execute_result"
    }
   ],
   "source": [
    "score"
   ]
  },
  {
   "cell_type": "markdown",
   "metadata": {},
   "source": [
    "## PCA on Spambase"
   ]
  },
  {
   "cell_type": "code",
   "execution_count": 39,
   "metadata": {},
   "outputs": [
    {
     "data": {
      "text/plain": [
       "0.9990683229813665"
      ]
     },
     "execution_count": 39,
     "metadata": {},
     "output_type": "execute_result"
    }
   ],
   "source": [
    "train_img = pd.read_csv(\"../../data/spambase/spambase.data\", header = None)\n",
    "train_lbl = train_img.iloc[:,-1]\n",
    "train_img = train_img.iloc[:,0:-1]\n",
    "\n",
    "split = 0.7\n",
    "split_length = len(train_img)\n",
    "\n",
    "test_img  = np.array(train_img[int(split_length*split):])\n",
    "train_img = np.array(train_img[:int(split_length*split)])\n",
    "\n",
    "test_lbl  = np.array(train_lbl[int(split_length*split):])\n",
    "train_lbl = np.array(train_lbl[:int(split_length*split)])\n",
    "\n",
    "pca = PCA(n_components=20, copy=True, whiten=False, svd_solver='auto', tol=0.0, iterated_power='auto', random_state=None)\n",
    "\n",
    "pca.fit(train_img)\n",
    "new_train_img = pca.transform(train_img)\n",
    "\n",
    "pca.fit(test_img)\n",
    "new_test_img = pca.transform(test_img)\n",
    "\n",
    "clf = tree.DecisionTreeClassifier()\n",
    "clf = clf.fit(new_train_img, train_lbl)\n",
    "\n",
    "predictions = clf.predict(new_test_img)\n",
    "clf.score(new_train_img, train_lbl)"
   ]
  },
  {
   "cell_type": "code",
   "execution_count": 40,
   "metadata": {},
   "outputs": [
    {
     "data": {
      "text/plain": [
       "0.6828385228095583"
      ]
     },
     "execution_count": 40,
     "metadata": {},
     "output_type": "execute_result"
    }
   ],
   "source": [
    "clf.score(new_test_img, test_lbl)"
   ]
  },
  {
   "cell_type": "code",
   "execution_count": 4,
   "metadata": {},
   "outputs": [
    {
     "data": {
      "text/plain": [
       "0.9990683229813665"
      ]
     },
     "execution_count": 4,
     "metadata": {},
     "output_type": "execute_result"
    }
   ],
   "source": [
    "train_img = pd.read_csv(\"../../data/spambase/spambase.data\", header = None)\n",
    "train_lbl = train_img.iloc[:,-1]\n",
    "train_img = train_img.iloc[:,0:-1]\n",
    "\n",
    "split = 0.7\n",
    "split_length = len(train_img)\n",
    "\n",
    "test_img  = np.array(train_img[int(split_length*split):])\n",
    "train_img = np.array(train_img[:int(split_length*split)])\n",
    "\n",
    "test_lbl  = np.array(train_lbl[int(split_length*split):])\n",
    "train_lbl = np.array(train_lbl[:int(split_length*split)])\n",
    "\n",
    "pca = PCA(n_components=5, copy=True, whiten=False, svd_solver='auto', tol=0.0, iterated_power='auto', random_state=None)\n",
    "\n",
    "pca.fit(train_img)\n",
    "new_train_img = pca.transform(train_img)\n",
    "\n",
    "pca.fit(test_img)\n",
    "new_test_img = pca.transform(test_img)\n",
    "\n",
    "clf = tree.DecisionTreeClassifier()\n",
    "clf = clf.fit(new_train_img, train_lbl)\n",
    "\n",
    "predictions = clf.predict(new_test_img)\n",
    "clf.score(new_train_img, train_lbl)"
   ]
  },
  {
   "cell_type": "code",
   "execution_count": 5,
   "metadata": {},
   "outputs": [
    {
     "data": {
      "text/plain": [
       "0.6929761042722665"
      ]
     },
     "execution_count": 5,
     "metadata": {},
     "output_type": "execute_result"
    }
   ],
   "source": [
    "clf.score(new_test_img, test_lbl)"
   ]
  },
  {
   "cell_type": "code",
   "execution_count": null,
   "metadata": {},
   "outputs": [],
   "source": []
  }
 ],
 "metadata": {
  "kernelspec": {
   "display_name": "Python 3",
   "language": "python",
   "name": "python3"
  },
  "language_info": {
   "codemirror_mode": {
    "name": "ipython",
    "version": 3
   },
   "file_extension": ".py",
   "mimetype": "text/x-python",
   "name": "python",
   "nbconvert_exporter": "python",
   "pygments_lexer": "ipython3",
   "version": "3.6.4"
  }
 },
 "nbformat": 4,
 "nbformat_minor": 2
}
