{
 "cells": [
  {
   "cell_type": "code",
   "execution_count": 193,
   "metadata": {},
   "outputs": [],
   "source": [
    "import pandas as pd\n",
    "import mnist\n",
    "from sklearn.datasets import load_digits\n",
    "import numpy as np \n",
    "import matplotlib.pyplot as plt\n",
    "from sklearn.model_selection import train_test_split\n",
    "from sklearn.linear_model import LogisticRegression\n",
    "from sklearn.datasets import fetch_20newsgroups\n",
    "from sklearn.feature_extraction.text import CountVectorizer\n",
    "from sklearn import tree"
   ]
  },
  {
   "cell_type": "markdown",
   "metadata": {},
   "source": [
    "## Logistic Regression - MNIST"
   ]
  },
  {
   "cell_type": "code",
   "execution_count": 130,
   "metadata": {},
   "outputs": [],
   "source": [
    "train_img = mnist.train_images()\n",
    "train_lbl = mnist.train_labels()\n",
    "\n",
    "test_img = mnist.test_images()\n",
    "test_lbl = mnist.test_labels()\n",
    "\n",
    "train_img = train_img.reshape((train_img.shape[0], train_img.shape[1] * train_img.shape[2]))\n",
    "\n",
    "test_img = test_img.reshape((test_img.shape[0], test_img.shape[1] * test_img.shape[2]))\n",
    "\n"
   ]
  },
  {
   "cell_type": "code",
   "execution_count": 131,
   "metadata": {},
   "outputs": [
    {
     "data": {
      "image/png": "[encoded data removed]",
      "text/plain": [
       "<matplotlib.figure.Figure at 0x7f91deba5908>"
      ]
     },
     "metadata": {},
     "output_type": "display_data"
    }
   ],
   "source": [
    "plt.figure(figsize=(20,4))\n",
    "for index, (image, label) in enumerate(zip(train_img[0:5], train_lbl[0:5])):\n",
    " plt.subplot(1, 5, index + 1)\n",
    " plt.imshow(np.reshape(image, (28,28)), cmap=plt.cm.gray)\n",
    " plt.title('Training: %i\\n' % label, fontsize = 20)"
   ]
  },
  {
   "cell_type": "code",
   "execution_count": 132,
   "metadata": {},
   "outputs": [],
   "source": [
    "logisticRegr = LogisticRegression(solver = 'lbfgs')"
   ]
  },
  {
   "cell_type": "code",
   "execution_count": 133,
   "metadata": {},
   "outputs": [
    {
     "data": {
      "text/plain": [
       "(60000, 784)"
      ]
     },
     "execution_count": 133,
     "metadata": {},
     "output_type": "execute_result"
    }
   ],
   "source": [
    "train_img.shape"
   ]
  },
  {
   "cell_type": "code",
   "execution_count": 134,
   "metadata": {
    "scrolled": true
   },
   "outputs": [
    {
     "data": {
      "text/plain": [
       "LogisticRegression(C=1.0, class_weight=None, dual=False, fit_intercept=True,\n",
       "          intercept_scaling=1, max_iter=100, multi_class='ovr', n_jobs=1,\n",
       "          penalty='l2', random_state=None, solver='lbfgs', tol=0.0001,\n",
       "          verbose=0, warm_start=False)"
      ]
     },
     "execution_count": 134,
     "metadata": {},
     "output_type": "execute_result"
    }
   ],
   "source": [
    "logisticRegr.fit(train_img, train_lbl)"
   ]
  },
  {
   "cell_type": "code",
   "execution_count": 135,
   "metadata": {},
   "outputs": [
    {
     "data": {
      "text/plain": [
       "array([7], dtype=uint8)"
      ]
     },
     "execution_count": 135,
     "metadata": {},
     "output_type": "execute_result"
    }
   ],
   "source": [
    "logisticRegr.predict(test_img[0].reshape(1,-1))"
   ]
  },
  {
   "cell_type": "code",
   "execution_count": 136,
   "metadata": {},
   "outputs": [
    {
     "data": {
      "text/plain": [
       "array([7, 2, 1, 0, 4, 1, 4, 9, 6, 9], dtype=uint8)"
      ]
     },
     "execution_count": 136,
     "metadata": {},
     "output_type": "execute_result"
    }
   ],
   "source": [
    "logisticRegr.predict(test_img[0:10])"
   ]
  },
  {
   "cell_type": "code",
   "execution_count": 137,
   "metadata": {},
   "outputs": [],
   "source": [
    "predictions = logisticRegr.predict(test_img)"
   ]
  },
  {
   "cell_type": "code",
   "execution_count": 138,
   "metadata": {},
   "outputs": [
    {
     "name": "stdout",
     "output_type": "stream",
     "text": [
      "0.9172\n"
     ]
    }
   ],
   "source": [
    "score = logisticRegr.score(test_img, test_lbl)\n",
    "print(score)"
   ]
  },
  {
   "cell_type": "code",
   "execution_count": 143,
   "metadata": {},
   "outputs": [
    {
     "data": {
      "text/plain": [
       "array([[249, 718, 717, ..., 370, 302, 498],\n",
       "       [711, 716, 710, ...,  69, 612, 621],\n",
       "       [709, 276, 368, ..., 390, 446, 474],\n",
       "       ...,\n",
       "       [129, 128, 619, ..., 339, 338, 310],\n",
       "       [743, 501, 742, ..., 360, 691, 332],\n",
       "       [162, 416, 444, ..., 721, 359, 720]])"
      ]
     },
     "execution_count": 143,
     "metadata": {},
     "output_type": "execute_result"
    }
   ],
   "source": [
    "np.argsort(logisticRegr.coef_)"
   ]
  },
  {
   "cell_type": "markdown",
   "metadata": {},
   "source": [
    "## Logistic Regression - Spambase"
   ]
  },
  {
   "cell_type": "code",
   "execution_count": 144,
   "metadata": {
    "scrolled": true
   },
   "outputs": [],
   "source": [
    "train_img = pd.read_csv(\"../../data/spambase/spambase.data\", header = None)\n",
    "train_lbl = train_img.iloc[:,-1]\n",
    "train_img = train_img.iloc[:,0:-1]"
   ]
  },
  {
   "cell_type": "code",
   "execution_count": 145,
   "metadata": {
    "scrolled": true
   },
   "outputs": [],
   "source": [
    "split = 0.7\n",
    "split_length = len(train_img)\n",
    "\n",
    "test_img  = np.array(train_img[int(split_length*split):])\n",
    "train_img = np.array(train_img[:int(split_length*split)])\n",
    "\n",
    "test_lbl  = np.array(train_lbl[int(split_length*split):])\n",
    "train_lbl = np.array(train_lbl[:int(split_length*split)])"
   ]
  },
  {
   "cell_type": "code",
   "execution_count": 146,
   "metadata": {
    "scrolled": true
   },
   "outputs": [
    {
     "data": {
      "text/plain": [
       "array([[0.000e+00, 6.400e-01, 6.400e-01, ..., 3.756e+00, 6.100e+01,\n",
       "        2.780e+02],\n",
       "       [2.100e-01, 2.800e-01, 5.000e-01, ..., 5.114e+00, 1.010e+02,\n",
       "        1.028e+03],\n",
       "       [6.000e-02, 0.000e+00, 7.100e-01, ..., 9.821e+00, 4.850e+02,\n",
       "        2.259e+03],\n",
       "       ...,\n",
       "       [2.700e-01, 2.700e-01, 0.000e+00, ..., 1.231e+00, 6.000e+00,\n",
       "        1.010e+02],\n",
       "       [0.000e+00, 0.000e+00, 0.000e+00, ..., 3.083e+00, 1.200e+01,\n",
       "        3.700e+01],\n",
       "       [0.000e+00, 0.000e+00, 8.700e-01, ..., 1.269e+00, 5.000e+00,\n",
       "        3.300e+01]])"
      ]
     },
     "execution_count": 146,
     "metadata": {},
     "output_type": "execute_result"
    }
   ],
   "source": [
    "train_img"
   ]
  },
  {
   "cell_type": "code",
   "execution_count": 147,
   "metadata": {},
   "outputs": [
    {
     "data": {
      "image/png": "[encoded data removed]",
      "text/plain": [
       "<matplotlib.figure.Figure at 0x7f91dbd18cc0>"
      ]
     },
     "metadata": {},
     "output_type": "display_data"
    }
   ],
   "source": [
    "plt.figure(figsize=(20,4))\n",
    "for index, (image, label) in enumerate(zip(train_img[0:10], train_lbl[0:10])):\n",
    "     \n",
    "    plt.subplot(1, 10, index + 1)\n",
    "    #print(image)\n",
    "    plt.imshow(np.reshape(image[0:49], (7,7)), cmap=plt.cm.gray)\n",
    "    plt.title('Training: %i\\n' % label, fontsize = 20)"
   ]
  },
  {
   "cell_type": "code",
   "execution_count": 148,
   "metadata": {},
   "outputs": [],
   "source": [
    "logisticRegr = LogisticRegression(solver = 'lbfgs')"
   ]
  },
  {
   "cell_type": "code",
   "execution_count": 149,
   "metadata": {},
   "outputs": [
    {
     "data": {
      "text/plain": [
       "LogisticRegression(C=1.0, class_weight=None, dual=False, fit_intercept=True,\n",
       "          intercept_scaling=1, max_iter=100, multi_class='ovr', n_jobs=1,\n",
       "          penalty='l2', random_state=None, solver='lbfgs', tol=0.0001,\n",
       "          verbose=0, warm_start=False)"
      ]
     },
     "execution_count": 149,
     "metadata": {},
     "output_type": "execute_result"
    }
   ],
   "source": [
    "logisticRegr.fit(train_img, train_lbl)"
   ]
  },
  {
   "cell_type": "code",
   "execution_count": 150,
   "metadata": {},
   "outputs": [
    {
     "data": {
      "text/plain": [
       "array([0])"
      ]
     },
     "execution_count": 150,
     "metadata": {},
     "output_type": "execute_result"
    }
   ],
   "source": [
    "logisticRegr.predict(test_img[0].reshape(1,-1))"
   ]
  },
  {
   "cell_type": "code",
   "execution_count": 151,
   "metadata": {},
   "outputs": [
    {
     "data": {
      "text/plain": [
       "array([0, 0, 0, 0, 0, 0, 0, 0, 0, 0])"
      ]
     },
     "execution_count": 151,
     "metadata": {},
     "output_type": "execute_result"
    }
   ],
   "source": [
    "logisticRegr.predict(test_img[0:10])"
   ]
  },
  {
   "cell_type": "code",
   "execution_count": 152,
   "metadata": {},
   "outputs": [],
   "source": [
    "predictions = logisticRegr.predict(test_img)"
   ]
  },
  {
   "cell_type": "code",
   "execution_count": 153,
   "metadata": {},
   "outputs": [
    {
     "name": "stdout",
     "output_type": "stream",
     "text": [
      "0.8044895003620565\n"
     ]
    }
   ],
   "source": [
    "score = logisticRegr.score(test_img, test_lbl)\n",
    "print(score)"
   ]
  },
  {
   "cell_type": "code",
   "execution_count": 155,
   "metadata": {},
   "outputs": [
    {
     "data": {
      "text/plain": [
       "array([[24, 26, 25, 41, 44, 32, 28, 34, 36, 29, 43, 38, 40, 45, 30,  1,\n",
       "        47, 42, 11, 27, 33, 31, 39, 35, 46, 49, 50,  0, 48, 37, 54, 13,\n",
       "        56, 55, 20, 10,  8, 53, 14, 12, 18,  2,  3, 19,  9,  5, 17, 21,\n",
       "        16, 52, 23,  4,  7, 22,  6, 15, 51]])"
      ]
     },
     "execution_count": 155,
     "metadata": {},
     "output_type": "execute_result"
    }
   ],
   "source": [
    "np.argsort(logisticRegr.coef_)"
   ]
  },
  {
   "cell_type": "markdown",
   "metadata": {},
   "source": [
    "## Logistic Regression - 20 NG"
   ]
  },
  {
   "cell_type": "code",
   "execution_count": 210,
   "metadata": {},
   "outputs": [],
   "source": [
    "news_train = fetch_20newsgroups(data_home='../data/20newsgroups/', \n",
    "                                subset='train', \n",
    "                                remove=('headers', 'footers', 'quotes'))\n",
    "\n",
    "news_test = fetch_20newsgroups(data_home='../data/20newsgroups/', \n",
    "                                subset='test', \n",
    "                                remove=('headers', 'footers', 'quotes'))"
   ]
  },
  {
   "cell_type": "code",
   "execution_count": 219,
   "metadata": {},
   "outputs": [],
   "source": [
    "vectorizer  = CountVectorizer(binary=True, stop_words='english')\n",
    "train_img   = vectorizer.fit_transform(news_train.data)\n",
    "test_img    = vectorizer.transform(news_test.data)\n",
    "train_lbl   = news_train.target\n",
    "test_lbl    = news_test.target\n"
   ]
  },
  {
   "cell_type": "code",
   "execution_count": 220,
   "metadata": {},
   "outputs": [],
   "source": [
    "logisticRegr = LogisticRegression(solver = 'lbfgs', penalty='l2')"
   ]
  },
  {
   "cell_type": "code",
   "execution_count": 221,
   "metadata": {},
   "outputs": [
    {
     "data": {
      "text/plain": [
       "LogisticRegression(C=1.0, class_weight=None, dual=False, fit_intercept=True,\n",
       "          intercept_scaling=1, max_iter=100, multi_class='ovr', n_jobs=1,\n",
       "          penalty='l2', random_state=None, solver='lbfgs', tol=0.0001,\n",
       "          verbose=0, warm_start=False)"
      ]
     },
     "execution_count": 221,
     "metadata": {},
     "output_type": "execute_result"
    }
   ],
   "source": [
    "logisticRegr.fit(train_img, train_lbl)"
   ]
  },
  {
   "cell_type": "code",
   "execution_count": 222,
   "metadata": {},
   "outputs": [
    {
     "data": {
      "text/plain": [
       "array([ 4,  1,  8,  0,  0, 13,  8,  2,  5,  1])"
      ]
     },
     "execution_count": 222,
     "metadata": {},
     "output_type": "execute_result"
    }
   ],
   "source": [
    "logisticRegr.predict(test_img[0:10])"
   ]
  },
  {
   "cell_type": "code",
   "execution_count": 223,
   "metadata": {},
   "outputs": [],
   "source": [
    "predictions = logisticRegr.predict(train_img)"
   ]
  },
  {
   "cell_type": "code",
   "execution_count": 224,
   "metadata": {},
   "outputs": [
    {
     "name": "stdout",
     "output_type": "stream",
     "text": [
      "0.9689764893052855\n"
     ]
    }
   ],
   "source": [
    "score = logisticRegr.score(train_img, train_lbl)\n",
    "print(score)"
   ]
  },
  {
   "cell_type": "code",
   "execution_count": 225,
   "metadata": {},
   "outputs": [
    {
     "name": "stdout",
     "output_type": "stream",
     "text": [
      "0.6411311736590547\n"
     ]
    }
   ],
   "source": [
    "score = logisticRegr.score(test_img, test_lbl)\n",
    "print(score)"
   ]
  },
  {
   "cell_type": "code",
   "execution_count": 267,
   "metadata": {},
   "outputs": [
    {
     "data": {
      "text/plain": [
       "array([[-3.55364362e-01, -1.14479228e-01, -6.32424573e-04, ...,\n",
       "        -5.33075878e-03, -1.26093206e-03, -1.26093206e-03],\n",
       "       [ 1.06426532e-01,  2.11054148e-01, -1.83342875e-02, ...,\n",
       "        -1.78280331e-03, -1.04973108e-02, -1.04973108e-02],\n",
       "       [-4.04231118e-01,  4.85864586e-03, -1.34889186e-02, ...,\n",
       "        -2.57787726e-04, -9.38443397e-04, -9.38443397e-04],\n",
       "       ...,\n",
       "       [-1.94389129e-01,  4.29984176e-01,  4.63298040e-03, ...,\n",
       "        -2.03993130e-03, -8.02816235e-04, -8.02816235e-04],\n",
       "       [ 1.33396406e-01,  6.28111333e-02, -2.86063757e-02, ...,\n",
       "        -8.82292116e-04, -2.73141017e-03, -2.73141017e-03],\n",
       "       [-3.68830817e-01,  1.44397873e-01, -1.51679892e-03, ...,\n",
       "        -6.14944357e-03, -1.48795010e-04, -1.48795010e-04]])"
      ]
     },
     "execution_count": 267,
     "metadata": {},
     "output_type": "execute_result"
    }
   ],
   "source": [
    "logisticRegr.coef_"
   ]
  },
  {
   "cell_type": "markdown",
   "metadata": {},
   "source": [
    "## Decision Trees - MNIST"
   ]
  },
  {
   "cell_type": "code",
   "execution_count": 246,
   "metadata": {},
   "outputs": [],
   "source": [
    "train_img = mnist.train_images()\n",
    "train_lbl = mnist.train_labels()\n",
    "\n",
    "test_img = mnist.test_images()\n",
    "test_lbl = mnist.test_labels()\n",
    "\n",
    "train_img = train_img.reshape((train_img.shape[0], train_img.shape[1] * train_img.shape[2]))\n",
    "\n",
    "test_img = test_img.reshape((test_img.shape[0], test_img.shape[1] * test_img.shape[2]))\n",
    "\n",
    "\n",
    "clf = tree.DecisionTreeClassifier()\n",
    "clf = clf.fit(train_img, train_lbl)"
   ]
  },
  {
   "cell_type": "code",
   "execution_count": 247,
   "metadata": {},
   "outputs": [],
   "source": [
    "predictions = clf.predict(test_img)"
   ]
  },
  {
   "cell_type": "code",
   "execution_count": 248,
   "metadata": {},
   "outputs": [
    {
     "data": {
      "text/plain": [
       "1.0"
      ]
     },
     "execution_count": 248,
     "metadata": {},
     "output_type": "execute_result"
    }
   ],
   "source": [
    "clf.score(train_img, train_lbl)"
   ]
  },
  {
   "cell_type": "code",
   "execution_count": 253,
   "metadata": {},
   "outputs": [
    {
     "data": {
      "text/plain": [
       "0.879"
      ]
     },
     "execution_count": 253,
     "metadata": {},
     "output_type": "execute_result"
    }
   ],
   "source": [
    "clf.score(test_img, test_lbl)"
   ]
  },
  {
   "cell_type": "code",
   "execution_count": 254,
   "metadata": {
    "scrolled": true
   },
   "outputs": [
    {
     "data": {
      "text/plain": [
       "array([  0, 477, 476, 475, 473, 451, 450, 449, 448, 478, 447, 423, 422,\n",
       "       421, 420, 419, 418, 417, 395, 446, 394, 502, 505, 588, 587, 586,\n",
       "       585, 584, 562, 560, 559, 504, 558, 534, 533, 532, 531, 530, 528,\n",
       "       525, 508, 557, 589, 393, 782, 281, 280, 279, 278, 253, 252, 251,\n",
       "       250, 282, 249, 225, 224, 223, 222, 198, 197, 196, 195, 226, 392,\n",
       "       283, 305, 390, 367, 366, 365, 364, 363, 362, 339, 284, 338, 336,\n",
       "       335, 334, 310, 309, 308, 307, 306, 337, 591, 592, 612, 759, 758,\n",
       "       757, 756, 755, 754, 753, 752, 760, 751, 749, 747, 746, 742, 741,\n",
       "       740, 738, 734, 750, 732, 761, 763, 781, 780, 779, 778, 777, 776,\n",
       "       775, 774, 762, 773, 771, 770, 769, 768, 767, 766, 765, 764, 772,\n",
       "       731, 730, 729, 670, 669, 666, 646, 645, 644, 643, 642, 671, 641,\n",
       "       638, 620, 618, 617, 616, 615, 614, 613, 640, 672, 673, 674, 728,\n",
       "       727, 726, 725, 724, 723, 722, 718, 708, 704, 703, 702, 701, 700,\n",
       "       699, 698, 697, 696, 676, 194, 193, 391, 783,  78,  77,  76,  74,\n",
       "        72,  71,  67,  66,  65,  64,  63, 140,  61,  60,  59,  58,  57,\n",
       "        56,  55,  54,  53,  52,  51,  49,  48,  47,  46,  79,  45,  80,\n",
       "        82, 139, 138, 141, 142, 143, 117, 116, 115, 114, 113, 112, 111,\n",
       "       110, 109, 108, 107, 106,  94,  91,  90,  89,  88,  87,  86,  85,\n",
       "        84,  83,  81,  44,  62,  42, 171, 170,  43,  21,  22,  23,  19,\n",
       "        24,  26,  27,  28,  29,  30,  31,  25,  18,  17,  16,   1,   2,\n",
       "         3,   4,   5,   6,   7,   8,   9,  10,  11,  12,  13,  14,  15,\n",
       "        32,  33,  20,  37,  41,  38, 165,  40, 166, 167, 168,  34,  35,\n",
       "        39,  36, 169, 164, 199, 619, 361, 563, 163, 146, 144, 561, 311,\n",
       "       227, 131, 397, 499, 564, 479, 340, 590, 200, 145, 648, 472, 744,\n",
       "       665, 706, 255, 693, 529, 506, 285, 739, 647,  68, 735, 736,  50,\n",
       "       748, 119, 104, 668, 695, 137, 254, 221, 720, 135, 136, 333, 556,\n",
       "       509, 714, 275, 332, 452, 302, 369, 733, 277, 649, 118, 503, 480,\n",
       "       360, 201, 453, 691, 246, 173, 415, 256, 717, 191, 567, 474, 721,\n",
       "       675, 737, 105, 368, 664, 230, 414, 172,  69, 713, 667, 102, 610,\n",
       "       341, 501, 524, 694, 663, 445, 710, 314, 535, 443, 148, 661, 396,\n",
       "       444, 424,  93, 389, 692, 551, 192, 258, 471, 743, 482, 416, 274,\n",
       "       128,  99, 705, 425, 677, 387, 609, 202, 507, 582, 120, 229, 639,\n",
       "       130, 593, 621, 500, 681, 288, 129, 583, 553, 604,  75, 622, 122,\n",
       "       257, 549, 233, 565, 637, 388, 304, 611, 312, 581, 662, 359, 536,\n",
       "       595, 711, 174, 303, 526, 684, 162, 566, 220, 259, 552, 176, 399,\n",
       "       623, 286, 635, 495, 330, 636, 651, 313, 687, 160, 707, 634, 157,\n",
       "       629, 607, 719, 121, 497, 709, 272,  70, 331, 219, 745, 134, 686,\n",
       "       263, 521, 124, 398, 228, 189, 469, 216, 231, 632, 470, 716, 133,\n",
       "       244, 682,  96, 188, 260, 413, 540, 688, 715, 690, 678, 181, 370,\n",
       "       631, 123, 492, 205, 273, 175, 689, 203, 685, 468, 527, 204, 602,\n",
       "       386, 161, 431, 625, 243, 180, 215, 440, 605, 441, 245, 597, 151,\n",
       "       403, 633, 458, 481, 511, 483, 630, 626,  97, 159, 126, 132, 261,\n",
       "       383, 206, 462, 147, 235, 569, 548, 493, 603, 547, 232, 679, 454,\n",
       "       577, 523, 579, 459, 520, 596, 373, 680,  73, 576, 371, 498, 554,\n",
       "       608, 329, 624, 248, 537, 660, 491, 550, 409, 654, 467, 512, 385,\n",
       "       412, 349, 650, 465, 455, 517, 600, 237, 436, 580, 573, 262, 182,\n",
       "       323, 555, 712, 178, 544, 519, 185, 683, 628, 352, 384, 287, 510,\n",
       "       438, 578, 372, 184, 378, 429, 187, 183, 158, 382, 327, 539, 321,\n",
       "       601, 496, 401, 154, 410, 264, 461, 241, 426, 289, 456, 325, 439,\n",
       "       355, 627, 276, 599, 298, 100, 218, 374, 659, 125, 150, 351, 574,\n",
       "       328, 291, 266, 342, 356, 442, 247, 518, 457, 209, 541, 428, 347,\n",
       "        92, 344, 522, 406, 318, 240, 179, 546, 127, 464, 407, 606, 379,\n",
       "       463, 268, 466, 433, 460, 411, 177, 214, 542, 190, 239, 357, 103,\n",
       "       377, 270, 236, 408, 301, 375, 432, 485, 545, 653, 299, 217, 152,\n",
       "       571, 213, 322, 404, 269, 657, 186, 538, 212, 358, 488, 293, 494,\n",
       "       575, 570, 207, 316, 324, 513, 437, 294, 242, 594, 238, 265, 317,\n",
       "       652, 315, 400, 543, 295, 292, 515, 326, 487, 208, 572, 345, 320,\n",
       "       343, 210, 427, 490, 598, 434, 149, 516, 380, 319, 656, 376,  95,\n",
       "       353, 300, 514, 267, 297, 296, 348, 381, 658, 101, 271, 155, 402,\n",
       "       153, 655, 354, 290, 486, 484,  98, 156, 234, 405, 346, 211, 430,\n",
       "       350, 568, 435, 489])"
      ]
     },
     "execution_count": 254,
     "metadata": {},
     "output_type": "execute_result"
    }
   ],
   "source": [
    "np.argsort(clf.feature_importances_)"
   ]
  },
  {
   "cell_type": "markdown",
   "metadata": {},
   "source": [
    "## Decision Trees - Spambase"
   ]
  },
  {
   "cell_type": "code",
   "execution_count": 258,
   "metadata": {},
   "outputs": [
    {
     "data": {
      "text/plain": [
       "0.9990683229813665"
      ]
     },
     "execution_count": 258,
     "metadata": {},
     "output_type": "execute_result"
    }
   ],
   "source": [
    "train_img = pd.read_csv(\"../../data/spambase/spambase.data\", header = None)\n",
    "train_lbl = train_img.iloc[:,-1]\n",
    "train_img = train_img.iloc[:,0:-1]\n",
    "\n",
    "split = 0.7\n",
    "split_length = len(train_img)\n",
    "\n",
    "test_img  = np.array(train_img[int(split_length*split):])\n",
    "train_img = np.array(train_img[:int(split_length*split)])\n",
    "\n",
    "test_lbl  = np.array(train_lbl[int(split_length*split):])\n",
    "train_lbl = np.array(train_lbl[:int(split_length*split)])\n",
    "\n",
    "clf = tree.DecisionTreeClassifier()\n",
    "clf = clf.fit(train_img, train_lbl)\n",
    "\n",
    "predictions = clf.predict(test_img)\n",
    "clf.score(train_img, train_lbl)"
   ]
  },
  {
   "cell_type": "code",
   "execution_count": 261,
   "metadata": {},
   "outputs": [
    {
     "data": {
      "text/plain": [
       "0.7675597393193339"
      ]
     },
     "execution_count": 261,
     "metadata": {},
     "output_type": "execute_result"
    }
   ],
   "source": [
    "clf.score(test_img, test_lbl)"
   ]
  },
  {
   "cell_type": "markdown",
   "metadata": {},
   "source": [
    "## Decision Trees - 20 NG"
   ]
  },
  {
   "cell_type": "code",
   "execution_count": 262,
   "metadata": {},
   "outputs": [],
   "source": [
    "news_train = fetch_20newsgroups(data_home='../data/20newsgroups/', \n",
    "                                subset='train', \n",
    "                                remove=('headers', 'footers', 'quotes'))\n",
    "\n",
    "news_test = fetch_20newsgroups(data_home='../data/20newsgroups/', \n",
    "                                subset='test', \n",
    "                                remove=('headers', 'footers', 'quotes'))\n",
    "\n",
    "vectorizer  = CountVectorizer(binary=True, stop_words='english')\n",
    "train_img   = vectorizer.fit_transform(news_train.data)\n",
    "test_img    = vectorizer.transform(news_test.data)\n",
    "train_lbl   = news_train.target\n",
    "test_lbl    = news_test.target"
   ]
  },
  {
   "cell_type": "code",
   "execution_count": 265,
   "metadata": {},
   "outputs": [
    {
     "data": {
      "text/plain": [
       "0.973660951034117"
      ]
     },
     "execution_count": 265,
     "metadata": {},
     "output_type": "execute_result"
    }
   ],
   "source": [
    "clf = tree.DecisionTreeClassifier(random_state = 666)\n",
    "clf = clf.fit(train_img, train_lbl)\n",
    "\n",
    "predictions = clf.predict(test_img)\n",
    "clf.score(train_img, train_lbl)"
   ]
  },
  {
   "cell_type": "code",
   "execution_count": 266,
   "metadata": {},
   "outputs": [
    {
     "data": {
      "text/plain": [
       "0.4394583112055231"
      ]
     },
     "execution_count": 266,
     "metadata": {},
     "output_type": "execute_result"
    }
   ],
   "source": [
    "clf.score(test_img, test_lbl)"
   ]
  },
  {
   "cell_type": "code",
   "execution_count": null,
   "metadata": {},
   "outputs": [],
   "source": []
  }
 ],
 "metadata": {
  "kernelspec": {
   "display_name": "Python 3",
   "language": "python",
   "name": "python3"
  },
  "language_info": {
   "codemirror_mode": {
    "name": "ipython",
    "version": 3
   },
   "file_extension": ".py",
   "mimetype": "text/x-python",
   "name": "python",
   "nbconvert_exporter": "python",
   "pygments_lexer": "ipython3",
   "version": "3.6.4"
  }
 },
 "nbformat": 4,
 "nbformat_minor": 2
}
