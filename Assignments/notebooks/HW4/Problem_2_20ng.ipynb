{
 "cells": [
  {
   "cell_type": "code",
   "execution_count": 1,
   "metadata": {},
   "outputs": [
    {
     "name": "stderr",
     "output_type": "stream",
     "text": [
      "/opt/conda/lib/python3.6/site-packages/h5py/__init__.py:36: FutureWarning: Conversion of the second argument of issubdtype from `float` to `np.floating` is deprecated. In future, it will be treated as `np.float64 == np.dtype(float).type`.\n",
      "  from ._conv import register_converters as _register_converters\n"
     ]
    }
   ],
   "source": [
    "import tensorflow as tf\n",
    "import numpy as np\n",
    "import matplotlib.pyplot as plt\n",
    "from sklearn.datasets import fetch_20newsgroups\n",
    "from sklearn.feature_extraction.text import CountVectorizer\n",
    "from sklearn.feature_selection import chi2\n",
    "from tensorflow.examples.tutorials.mnist import input_data"
   ]
  },
  {
   "cell_type": "code",
   "execution_count": 2,
   "metadata": {},
   "outputs": [],
   "source": [
    "def neural_network(x):\n",
    "    hidden_layer_1 = tf.layers.dense(x, n_hidden1, activation=tf.nn.relu)\n",
    "    output_layer = tf.layers.dense(hidden_layer_1, n_output)\n",
    "    return output_layer"
   ]
  },
  {
   "cell_type": "code",
   "execution_count": 3,
   "metadata": {},
   "outputs": [],
   "source": [
    "def model_fn(features, labels, mode):\n",
    "    \n",
    "    output = neural_network(features['x'])\n",
    "    pred_y = tf.argmax(output, axis=1)\n",
    "    pred_prob = tf.nn.softmax(output)\n",
    "    \n",
    "    if mode == tf.estimator.ModeKeys.PREDICT:\n",
    "        return tf.estimator.EstimatorSpec(mode, predictions=pred_y)\n",
    "    \n",
    "    loss_fn = tf.reduce_mean(tf.nn.sparse_softmax_cross_entropy_with_logits(logits=output, labels=tf.cast(labels, dtype=tf.int32)))\n",
    "    optimizer_ = tf.train.GradientDescentOptimizer(learning_rate=learning_rate) \n",
    "    train_op = optimizer_.minimize(loss_fn, global_step=tf.train.get_global_step())   \n",
    "    accuracy_ = tf.metrics.accuracy(labels=labels, predictions=pred_y)\n",
    "    \n",
    "    est_spec = tf.estimator.EstimatorSpec(mode=mode, predictions=pred_y, loss=loss_fn, \n",
    "                                          train_op=train_op, eval_metric_ops={'accuracy':accuracy_})\n",
    "    \n",
    "    return est_spec\n",
    "    "
   ]
  },
  {
   "cell_type": "code",
   "execution_count": 5,
   "metadata": {},
   "outputs": [],
   "source": [
    "# data\n",
    "X_train_data = fetch_20newsgroups(subset=\"train\")\n",
    "X_train_ng = X_train_data.data    \n",
    "y_train_ng = X_train_data.target\n",
    "X_test_data = fetch_20newsgroups(subset=\"test\")\n",
    "X_test_ng = X_test_data.data\n",
    "y_test_ng = X_test_data.target\n",
    "\n",
    "del X_train_data, X_test_data\n",
    "\n",
    "vectorizer = CountVectorizer(dtype='float32')\n",
    "TF_X_train = vectorizer.fit_transform(X_train_ng)\n",
    "TF_X_test = vectorizer.transform(X_test_ng)"
   ]
  },
  {
   "cell_type": "code",
   "execution_count": 8,
   "metadata": {},
   "outputs": [],
   "source": [
    "chi_2 , pval = chi2(TF_X_train,y_train_ng)"
   ]
  },
  {
   "cell_type": "code",
   "execution_count": 9,
   "metadata": {},
   "outputs": [],
   "source": [
    "pairs = {i : w for w,i in vectorizer.vocabulary_.items()}\n",
    "f_sel = np.argsort(chi_2)[::-1][:20000]\n",
    "X_train = TF_X_train[:,f_sel]\n",
    "X_test = TF_X_test[:,f_sel]\n",
    "del TF_X_train, TF_X_test"
   ]
  },
  {
   "cell_type": "code",
   "execution_count": 13,
   "metadata": {},
   "outputs": [],
   "source": [
    "X_train = X_train.todense()\n",
    "X_test = X_test.todense()\n",
    "\n",
    "n_input = 20000\n",
    "n_output = 20\n",
    "n_hidden1 = 1000\n",
    "\n",
    "batch_size = 5657\n",
    "learning_rate = 0.2"
   ]
  },
  {
   "cell_type": "code",
   "execution_count": 16,
   "metadata": {},
   "outputs": [
    {
     "name": "stdout",
     "output_type": "stream",
     "text": [
      "INFO:tensorflow:Using default config.\n",
      "WARNING:tensorflow:Using temporary folder as model directory: /tmp/tmp2gmxcc1r\n",
      "INFO:tensorflow:Using config: {'_model_dir': '/tmp/tmp2gmxcc1r', '_tf_random_seed': None, '_save_summary_steps': 100, '_save_checkpoints_steps': None, '_save_checkpoints_secs': 600, '_session_config': None, '_keep_checkpoint_max': 5, '_keep_checkpoint_every_n_hours': 10000, '_log_step_count_steps': 100, '_service': None, '_cluster_spec': <tensorflow.python.training.server_lib.ClusterSpec object at 0x7f93618a59e8>, '_task_type': 'worker', '_task_id': 0, '_global_id_in_cluster': 0, '_master': '', '_evaluation_master': '', '_is_chief': True, '_num_ps_replicas': 0, '_num_worker_replicas': 1}\n"
     ]
    }
   ],
   "source": [
    "input_20_fn = tf.estimator.inputs.numpy_input_fn(x = {'x':X_train},\n",
    "                                              y = y_train_ng, batch_size=batch_size, num_epochs=None, shuffle = True)\n",
    "model = tf.estimator.Estimator(model_fn)"
   ]
  },
  {
   "cell_type": "code",
   "execution_count": 17,
   "metadata": {},
   "outputs": [
    {
     "name": "stdout",
     "output_type": "stream",
     "text": [
      "INFO:tensorflow:Calling model_fn.\n",
      "INFO:tensorflow:Done calling model_fn.\n",
      "INFO:tensorflow:Create CheckpointSaverHook.\n",
      "INFO:tensorflow:Graph was finalized.\n",
      "INFO:tensorflow:Running local_init_op.\n",
      "INFO:tensorflow:Done running local_init_op.\n",
      "INFO:tensorflow:Saving checkpoints for 1 into /tmp/tmp2gmxcc1r/model.ckpt.\n",
      "INFO:tensorflow:loss = 3.256226, step = 0\n",
      "INFO:tensorflow:global_step/sec: 0.628827\n",
      "INFO:tensorflow:loss = 2.107969, step = 100 (159.027 sec)\n",
      "INFO:tensorflow:global_step/sec: 0.628931\n",
      "INFO:tensorflow:loss = 1.5700439, step = 200 (159.001 sec)\n",
      "INFO:tensorflow:global_step/sec: 0.626786\n",
      "INFO:tensorflow:loss = 0.5075001, step = 300 (159.544 sec)\n",
      "INFO:tensorflow:Saving checkpoints for 378 into /tmp/tmp2gmxcc1r/model.ckpt.\n",
      "INFO:tensorflow:global_step/sec: 0.622461\n",
      "INFO:tensorflow:loss = 0.28585678, step = 400 (160.652 sec)\n",
      "INFO:tensorflow:global_step/sec: 0.628415\n",
      "INFO:tensorflow:loss = 0.1941176, step = 500 (159.131 sec)\n",
      "INFO:tensorflow:global_step/sec: 0.628582\n",
      "INFO:tensorflow:loss = 0.14172623, step = 600 (159.088 sec)\n",
      "INFO:tensorflow:global_step/sec: 0.625454\n",
      "INFO:tensorflow:loss = 0.10546656, step = 700 (159.884 sec)\n",
      "INFO:tensorflow:Saving checkpoints for 755 into /tmp/tmp2gmxcc1r/model.ckpt.\n",
      "INFO:tensorflow:global_step/sec: 0.628865\n",
      "INFO:tensorflow:loss = 0.08305442, step = 800 (159.016 sec)\n",
      "INFO:tensorflow:global_step/sec: 0.633295\n",
      "INFO:tensorflow:loss = 0.06727431, step = 900 (157.904 sec)\n",
      "INFO:tensorflow:Saving checkpoints for 1000 into /tmp/tmp2gmxcc1r/model.ckpt.\n",
      "INFO:tensorflow:Loss for final step: 0.056500953.\n",
      "CPU times: user 19min 19s, sys: 7min 29s, total: 26min 48s\n",
      "Wall time: 26min 33s\n"
     ]
    },
    {
     "data": {
      "text/plain": [
       "<tensorflow.python.estimator.estimator.Estimator at 0x7f9363a88908>"
      ]
     },
     "execution_count": 17,
     "metadata": {},
     "output_type": "execute_result"
    }
   ],
   "source": [
    "%%time\n",
    "model.train(input_20_fn, steps = 1000)"
   ]
  },
  {
   "cell_type": "code",
   "execution_count": 18,
   "metadata": {},
   "outputs": [
    {
     "name": "stdout",
     "output_type": "stream",
     "text": [
      "INFO:tensorflow:Calling model_fn.\n",
      "INFO:tensorflow:Done calling model_fn.\n",
      "INFO:tensorflow:Starting evaluation at 2018-03-24-05:17:48\n",
      "INFO:tensorflow:Graph was finalized.\n",
      "INFO:tensorflow:Restoring parameters from /tmp/tmp2gmxcc1r/model.ckpt-1000\n",
      "INFO:tensorflow:Running local_init_op.\n",
      "INFO:tensorflow:Done running local_init_op.\n",
      "INFO:tensorflow:Finished evaluation at 2018-03-24-05:17:50\n",
      "INFO:tensorflow:Saving dict for global step 1000: accuracy = 0.78359, global_step = 1000, loss = 1.0074589\n"
     ]
    },
    {
     "data": {
      "text/plain": [
       "{'accuracy': 0.78359, 'global_step': 1000, 'loss': 1.0074589}"
      ]
     },
     "execution_count": 18,
     "metadata": {},
     "output_type": "execute_result"
    }
   ],
   "source": [
    "input_test_20_fn = tf.estimator.inputs.numpy_input_fn(x = {'x':X_test}, y = y_test_ng,\n",
    "                                                   batch_size=batch_size, shuffle=False)\n",
    "\n",
    "model.evaluate(input_test_20_fn)"
   ]
  }
 ],
 "metadata": {
  "kernelspec": {
   "display_name": "Python 3",
   "language": "python",
   "name": "python3"
  },
  "language_info": {
   "codemirror_mode": {
    "name": "ipython",
    "version": 3
   },
   "file_extension": ".py",
   "mimetype": "text/x-python",
   "name": "python",
   "nbconvert_exporter": "python",
   "pygments_lexer": "ipython3",
   "version": "3.6.4"
  }
 },
 "nbformat": 4,
 "nbformat_minor": 2
}
